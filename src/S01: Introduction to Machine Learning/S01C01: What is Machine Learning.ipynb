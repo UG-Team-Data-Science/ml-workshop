{
 "cells": [
  {
   "cell_type": "markdown",
   "id": "16ee15a1",
   "metadata": {},
   "source": [
    "## ML vs. Traditional Programming\n",
    "\n",
    "In traditional programming, a programmer writes explicit rules and instructions for the computer to follow. In contrast, machine learning allows the computer to learn from data and improve its performance over time without being explicitly programmed for every task.\n",
    "\n",
    "One way to think about the difference is:\n",
    "\n",
    "-   ****Traditional Programming****: input + model → output\n",
    "-   ****Machine Learning****: input + output → model"
   ]
  },
  {
   "cell_type": "markdown",
   "id": "5c3732f0",
   "metadata": {},
   "source": [
    "## Key Concepts in Machine Learning\n",
    "\n",
    "Some key concepts in machine learning which will be useful to introduce early on in the workshop include:\n",
    "\n",
    "-   ****Data****: The foundation of machine learning. Data can be structured (e.g., tables, databases) or unstructured (e.g., text, images).\n",
    "-   ****Observations****: Individual data points or instances in the dataset. In a tabular dataset, observations are the rows that represent different examples.\n",
    "-   ****Features****: Individual measurable properties or characteristics of the data. In a tabular dataset, features are the columns that represent different attributes.\n",
    "-   ****Labels****: The target variable or outcome that the model is trying to predict. This is usually one of the columns in a tabular dataset.\n",
    "-   ****Model****: A mathematical representation of the relationship between features and labels. The model is trained on the data to learn these relationships.\n",
    "-   ****Training****: The process of teaching a machine learning model using a dataset. During training, the model learns to identify patterns in the data.\n",
    "-   ****Testing****: Evaluating the performance of a trained model on a separate dataset to assess its accuracy and generalization capabilities."
   ]
  },
  {
   "cell_type": "markdown",
   "id": "28256afd",
   "metadata": {},
   "source": [
    "## Types of Machine Learning\n",
    "\n",
    "Machine learning can be broadly categorized into three main types based on the nature of the learning task:\n",
    "\n",
    "-   ****Supervised Learning****: The model is trained on a labeled dataset, where each observation has a corresponding label. The goal is to learn a mapping from features to labels. Examples include ****classification**** and ****regression**** tasks.\n",
    "-   ****Unsupervised Learning****: The model is trained on an unlabeled dataset, where the goal is to find patterns or groupings in the data. Examples include ****clustering**** and ****dimensionality reduction**** tasks.\n",
    "-   ****Reinforcement Learning****: The model learns by interacting with an environment and receiving feedback in the form of rewards or penalties. The goal is to learn a policy that maximizes cumulative rewards over time.\n",
    "\n",
    "We will explore these concepts in more detail in a bit, but for now, it is important to understand that machine learning relies heavily on data and the relationships between features and labels.\n",
    "\n",
    "We will also introduce more advanced concepts in later sessions, as needed."
   ]
  },
  {
   "cell_type": "markdown",
   "id": "50bf583b",
   "metadata": {},
   "source": [
    "## Practical Demonstration\n",
    "\n",
    "The `scikit-learn` library, which is the most populuar machine learning library in Python, provides a wide range of tools for building and evaluating machine learning models. It includes datasets, preprocessing utilities, and various algorithms for classification, regression, clustering, and more.\n",
    "\n",
    "We will start by exploring some of the built-in datasets in `scikit-learn`, which are useful for learning and practicing machine learning concepts. These datasets are often used as benchmarks for testing algorithms and understanding their behavior.\n",
    "\n",
    "The first dataset we will explore is the ****Iris dataset****, which is a classic dataset in machine learning. It contains measurements of iris flowers and their corresponding species labels. The dataset has four features (sepal length, sepal width, petal length, and petal width) and three classes (species of iris).\n",
    "\n",
    "Import the necessary libraries and load the Iris dataset."
   ]
  },
  {
   "cell_type": "code",
   "execution_count": null,
   "id": "b4f026b3",
   "metadata": {},
   "outputs": [],
   "source": [
    "from sklearn.datasets import load_iris\n",
    "iris = load_iris()"
   ]
  },
  {
   "cell_type": "markdown",
   "id": "f267a0d8",
   "metadata": {},
   "source": [
    "The `iris` dataset is loaded as, essentially, a dictionary:"
   ]
  },
  {
   "cell_type": "code",
   "execution_count": null,
   "id": "c264fe27",
   "metadata": {},
   "outputs": [],
   "source": [
    "print(type(iris))"
   ]
  },
  {
   "cell_type": "markdown",
   "id": "70f33251",
   "metadata": {},
   "source": [
    "Let's print the keys of this dictionary:"
   ]
  },
  {
   "cell_type": "code",
   "execution_count": null,
   "id": "2b65547f",
   "metadata": {},
   "outputs": [],
   "source": [
    "print(iris.keys())"
   ]
  },
  {
   "cell_type": "markdown",
   "id": "57459dc7",
   "metadata": {},
   "source": [
    "Print the description of the dataset to understand its contents."
   ]
  },
  {
   "cell_type": "code",
   "execution_count": null,
   "id": "e52b12e4",
   "metadata": {},
   "outputs": [],
   "source": [
    "print(iris['DESCR'])"
   ]
  },
  {
   "cell_type": "markdown",
   "id": "ce4601da",
   "metadata": {},
   "source": [
    "Load the data and target variables into a Pandas DataFrame for easier manipulation and visualization."
   ]
  },
  {
   "cell_type": "code",
   "execution_count": null,
   "id": "c2d48f01",
   "metadata": {},
   "outputs": [],
   "source": [
    "import pandas as pd\n",
    "iris_df = pd.DataFrame(data=iris['data'], \n",
    "                       columns=iris['feature_names'])\n",
    "iris_df['species'] = iris['target_names'][iris['target']]\n",
    "print(iris_df.head())"
   ]
  },
  {
   "cell_type": "markdown",
   "id": "8aae2343",
   "metadata": {},
   "source": [
    "Finally, let's save the DataFrame to a CSV file for later use."
   ]
  },
  {
   "cell_type": "code",
   "execution_count": null,
   "id": "e1581e04",
   "metadata": {
    "lines_to_next_cell": 2
   },
   "outputs": [],
   "source": [
    "iris_df.to_csv('../../data/iris.csv', index=False)\n",
    "print(\"Iris dataset saved to 'iris.csv'\")"
   ]
  },
  {
   "cell_type": "markdown",
   "id": "4d01c473",
   "metadata": {},
   "source": [
    "## Hands-on Exercises\n",
    "\n",
    "Explore the California housing dataset:\n",
    "\n",
    "-   Load the California housing dataset from `scikit-learn`\n",
    "-   Transform the data into a Pandas DataFrame for easier manipulation and visualization\n",
    "-   Print the first few rows of the dataset, the names of the features and the target variable, and the number of observations and features in the dataset.\n",
    "-   Save the DataFrame to a CSV file for later use."
   ]
  }
 ],
 "metadata": {
  "jupytext": {
   "formats": "ipynb,md"
  },
  "kernelspec": {
   "display_name": "ML Workshop",
   "language": "python",
   "name": "ml_workshop"
  },
  "language_info": {
   "codemirror_mode": {
    "name": "ipython",
    "version": 3
   },
   "file_extension": ".py",
   "mimetype": "text/x-python",
   "name": "python",
   "nbconvert_exporter": "python",
   "pygments_lexer": "ipython3",
   "version": "3.13.3"
  }
 },
 "nbformat": 4,
 "nbformat_minor": 5
}
