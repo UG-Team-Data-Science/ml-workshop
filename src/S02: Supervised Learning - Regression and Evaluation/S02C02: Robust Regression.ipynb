{
 "cells": [
  {
   "cell_type": "markdown",
   "id": "7102ea9c",
   "metadata": {},
   "source": [
    "\n",
    "# Robust Regression\n",
    "\n",
    "**Robust regression** is a type of regression analysis designed to be less sensitive to outliers in the data. Traditional linear regression methods, such as ordinary least squares (OLS), can be heavily influenced by outliers, leading to biased estimates of the model parameters. Robust regression techniques aim to provide more reliable estimates in the presence of outliers or violations of the assumptions of linear regression."
   ]
  },
  {
   "cell_type": "markdown",
   "id": "c61ba4b3",
   "metadata": {},
   "source": [
    "## Types of Robust Regression\n",
    "\n",
    "There are several types of robust regression techniques, including:\n",
    "\n",
    "1.  **Huber Regression**: Combines the ideas of least squares and least absolute deviations. It uses a quadratic loss function for small residuals and a linear loss function for large residuals, making it less sensitive to outliers.\n",
    "2.  **RANSAC (Random Sample Consensus)**: An iterative method that fits a model to a subset of the data, repeatedly selecting random samples and estimating the model parameters. It identifies inliers and outliers based on the fit.\n",
    "3.  *Theil-Sen Estimator*: A non-parametric method that estimates the slope of the regression line by calculating the median of the slopes of all pairs of points. It is robust to outliers and provides a more reliable estimate of the slope.\n",
    "4.  *Quantile Regression*: Estimates the conditional quantiles of the dependent variable, allowing for a more comprehensive understanding of the relationship between variables, especially in the presence of outliers.\n",
    "5.  *Least Trimmed Squares (LTS)*: Minimizes the sum of the smallest squared residuals, effectively ignoring a specified percentage of the largest residuals, which are likely to be outliers."
   ]
  },
  {
   "cell_type": "markdown",
   "id": "accfc7f4",
   "metadata": {},
   "source": [
    "## Practical Demonstration\n",
    "\n",
    "We will now demonstrate how to implement robust regression using the Huber regression method from the `scikit-learn` library. We will use a synthetic dataset with outliers for this purpose.\n",
    "\n",
    "-   Create a synthetic dataset with outliers"
   ]
  },
  {
   "cell_type": "code",
   "execution_count": null,
   "id": "72e1710e",
   "metadata": {},
   "outputs": [],
   "source": [
    "import numpy as np\n",
    "import pandas as pd\n",
    "from sklearn.model_selection import train_test_split\n",
    "\n",
    "np.random.seed(0)\n",
    "X = np.linspace(0, 10, 100).reshape(-1, 1)  # Independent variable\n",
    "y = 2 * X + 5 + np.random.randn(100, 1)     # Dependent variable with noise\n",
    "\n",
    "# Introduce outliers\n",
    "y[::20] += 500 * np.random.randn(5, 1)      # Add large noise to every 20th point\n",
    "\n",
    "# Create DataFrame\n",
    "data = pd.DataFrame(np.hstack((X, y)), columns=['X', 'y'])\n",
    "\n",
    "# Split the dataset\n",
    "X_train, X_test, y_train, y_test = train_test_split(data[['X']], data['y'],\n",
    "                                                    test_size=0.2,\n",
    "                                                    random_state=42)"
   ]
  },
  {
   "cell_type": "markdown",
   "id": "84f69b58",
   "metadata": {},
   "source": [
    "-   Fit a traditional linear regression model for comparison"
   ]
  },
  {
   "cell_type": "code",
   "execution_count": null,
   "id": "21d61fe5",
   "metadata": {},
   "outputs": [],
   "source": [
    "from sklearn.linear_model import LinearRegression\n",
    "model = LinearRegression()\n",
    "model.fit(X_train, y_train)\n",
    "\n",
    "print(f\"Intercept (β0): {model.intercept_:.2f}\")\n",
    "print(f\"Slope (β1): {model.coef_[0]:.2f}\")"
   ]
  },
  {
   "cell_type": "markdown",
   "id": "3e82f6bc",
   "metadata": {},
   "source": [
    "-   Make predictions and evaluate the traditional linear regression model"
   ]
  },
  {
   "cell_type": "code",
   "execution_count": null,
   "id": "77b83797",
   "metadata": {},
   "outputs": [],
   "source": [
    "from sklearn.metrics import mean_absolute_error, mean_squared_error\n",
    "import matplotlib.pyplot as plt\n",
    "import seaborn as sns\n",
    "\n",
    "y_pred = model.predict(X_test)\n",
    "\n",
    "mae = mean_absolute_error(y_test, y_pred)\n",
    "mse = mean_squared_error(y_test, y_pred)\n",
    "rmse = np.sqrt(mse)\n",
    "r2 = model.score(X_test, y_test)\n",
    "\n",
    "print(f\"Mean Absolute Error (MAE): {mae:.2f}\")\n",
    "print(f\"Mean Squared Error (MSE): {mse:.2f}\")\n",
    "print(f\"Root Mean Squared Error (RMSE): {rmse:.2f}\")\n",
    "print(f\"R-squared (R^2): {r2:.2f}\")\n",
    "\n",
    "plt.figure(figsize=(10, 6))\n",
    "sns.scatterplot(x=X_test.squeeze(), y=y_test, color='blue', label='Actual')\n",
    "sns.lineplot(x=X_test.squeeze(), y=y_pred, color='green', label='Predicted', linewidth=2)\n",
    "plt.xlabel('X')\n",
    "plt.ylabel('y')\n",
    "plt.title('Traditional Linear Regression - Actual vs Predicted')\n",
    "plt.legend()\n",
    "plt.show()"
   ]
  },
  {
   "cell_type": "markdown",
   "id": "451f1c38",
   "metadata": {},
   "source": [
    "-   Fit a robust regression model using Huber regression"
   ]
  },
  {
   "cell_type": "code",
   "execution_count": null,
   "id": "2e29a3a6",
   "metadata": {},
   "outputs": [],
   "source": [
    "from sklearn.linear_model import HuberRegressor\n",
    "robust_model = HuberRegressor()\n",
    "robust_model.fit(X_train, y_train)\n",
    "\n",
    "print(f\"Intercept (β0): {robust_model.intercept_:.2f}\")\n",
    "print(f\"Slope (β1): {robust_model.coef_[0]:.2f}\")"
   ]
  },
  {
   "cell_type": "markdown",
   "id": "ba356dbc",
   "metadata": {},
   "source": [
    "-   Make predictions and evaluate the robust regression model"
   ]
  },
  {
   "cell_type": "code",
   "execution_count": null,
   "id": "1db1c49a",
   "metadata": {},
   "outputs": [],
   "source": [
    "from sklearn.metrics import mean_absolute_error, mean_squared_error\n",
    "import matplotlib.pyplot as plt\n",
    "import seaborn as sns\n",
    "\n",
    "y_pred_robust = robust_model.predict(X_test)\n",
    "\n",
    "mae_robust = mean_absolute_error(y_test, y_pred_robust)\n",
    "mse_robust = mean_squared_error(y_test, y_pred_robust)\n",
    "rmse_robust = np.sqrt(mse_robust)\n",
    "r2_robust = robust_model.score(X_test, y_test)\n",
    "\n",
    "print(f\"Mean Absolute Error (MAE): {mae_robust:.2f}\")\n",
    "print(f\"Mean Squared Error (MSE): {mse_robust:.2f}\")\n",
    "print(f\"Root Mean Squared Error (RMSE): {rmse_robust:.2f}\")\n",
    "print(f\"R-squared (R^2): {r2_robust:.2f}\")\n",
    "\n",
    "plt.figure(figsize=(10, 6))\n",
    "sns.scatterplot(x=X_test.squeeze(), y=y_test, color='blue', label='Actual')\n",
    "sns.lineplot(x=X_test.squeeze(), y=y_pred_robust, color='red', label='Predicted (Robust)', linewidth=2)\n",
    "plt.xlabel('X')\n",
    "plt.ylabel('y')\n",
    "plt.title('Robust Regression - Actual vs Predicted')\n",
    "plt.legend()\n",
    "plt.show()"
   ]
  },
  {
   "cell_type": "markdown",
   "id": "ac52ce78",
   "metadata": {},
   "source": [
    "-   Compare the performance of the robust regression model with the traditional linear regression model"
   ]
  },
  {
   "cell_type": "code",
   "execution_count": null,
   "id": "925a9f8c",
   "metadata": {
    "lines_to_next_cell": 2
   },
   "outputs": [],
   "source": [
    "# Plot the results for comparison\n",
    "plt.figure(figsize=(10, 6))\n",
    "sns.scatterplot(x=X_test.squeeze(), y=y_test, color='blue', label='Actual')\n",
    "sns.lineplot(x=X_test.squeeze(), y=y_pred, color='green', label='Predicted (Traditional)', linewidth=2)\n",
    "sns.lineplot(x=X_test.squeeze(), y=y_pred_robust, color='red', label='Predicted (Robust)', linewidth=2)\n",
    "plt.xlabel('X')\n",
    "plt.ylabel('y')\n",
    "plt.xlim(0, 10)\n",
    "plt.ylim(0, 20)\n",
    "plt.title('Comparison of Traditional and Robust Regression')\n",
    "plt.legend()\n",
    "plt.show()"
   ]
  },
  {
   "cell_type": "markdown",
   "id": "5afb7f2f",
   "metadata": {},
   "source": [
    "## Hands-on Exercises\n",
    "\n",
    "Create a model using RANSAC (Random Sample Consensus) robust regression method on the same dataset. Compare its performance with the traditional and Huber regression models.\n",
    "\n",
    "-   Fit a RANSAC regression model\n",
    "-   Make predictions and evaluate the RANSAC regression model\n",
    "-   Compare the performance of the RANSAC regression model with the traditional and Huber robust regression models"
   ]
  },
  {
   "cell_type": "markdown",
   "id": "4c88a703",
   "metadata": {},
   "source": [
    "## Summary\n",
    "\n",
    "In this section, we introduced robust regression, a technique designed to be less sensitive to outliers in the data. We demonstrated how to implement robust regression using the Huber regression method from the `scikit-learn` library and evaluated its performance on a synthetic dataset with outliers.\n",
    "\n",
    "Robust regression techniques are essential for ensuring reliable estimates in the presence of outliers or violations of the assumptions of linear regression."
   ]
  }
 ],
 "metadata": {
  "jupytext": {
   "formats": "ipynb,md"
  },
  "kernelspec": {
   "display_name": "ML Workshop",
   "language": "python",
   "name": "ml_workshop"
  },
  "language_info": {
   "codemirror_mode": {
    "name": "ipython",
    "version": 3
   },
   "file_extension": ".py",
   "mimetype": "text/x-python",
   "name": "python",
   "nbconvert_exporter": "python",
   "pygments_lexer": "ipython3",
   "version": "3.13.3"
  }
 },
 "nbformat": 4,
 "nbformat_minor": 5
}
