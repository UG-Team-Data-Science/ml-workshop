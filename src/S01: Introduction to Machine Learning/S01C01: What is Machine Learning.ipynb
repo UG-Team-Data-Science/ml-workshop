{
 "cells": [
  {
   "cell_type": "markdown",
   "id": "258dca2b",
   "metadata": {},
   "source": [
    "\n",
    "# What is Machine Learning?\n",
    "\n",
    "****Machine Learning**** (ML) is a subfield of ****artificial intelligence**** (AI) that focuses on the development of algorithms and statistical models that enable computers to perform tasks without explicit instructions. Instead, ML systems learn from data, identifying patterns and making decisions based on that data."
   ]
  },
  {
   "cell_type": "markdown",
   "id": "16ee15a1",
   "metadata": {},
   "source": [
    "## ML vs. Traditional Programming\n",
    "\n",
    "In traditional programming, a programmer writes explicit rules and instructions for the computer to follow. In contrast, machine learning allows the computer to learn from data and improve its performance over time without being explicitly programmed for every task.\n",
    "\n",
    "One way to think about the difference is:\n",
    "\n",
    "-   ****Traditional Programming****: input + model → output\n",
    "-   ****Machine Learning****: input + output → model"
   ]
  },
  {
   "cell_type": "markdown",
   "id": "5c3732f0",
   "metadata": {},
   "source": [
    "## Key Concepts in Machine Learning\n",
    "\n",
    "Some key concepts in machine learning which will be useful to introduce early on in the workshop include:\n",
    "\n",
    "-   ****Data****: The foundation of machine learning. Data can be structured (e.g., tables, databases) or unstructured (e.g., text, images).\n",
    "-   ****Observations****: Individual data points or instances in the dataset. In a tabular dataset, observations are the rows that represent different examples.\n",
    "-   ****Features****: Individual measurable properties or characteristics of the data. In a tabular dataset, features are the columns that represent different attributes.\n",
    "-   ****Labels****: The target variable or outcome that the model is trying to predict. This is usually one of the columns in a tabular dataset.\n",
    "-   ****Model****: A mathematical representation of the relationship between features and labels. The model is trained on the data to learn these relationships.\n",
    "-   ****Training****: The process of teaching a machine learning model using a dataset. During training, the model learns to identify patterns in the data.\n",
    "-   ****Testing****: Evaluating the performance of a trained model on a separate dataset to assess its accuracy and generalization capabilities."
   ]
  },
  {
   "cell_type": "markdown",
   "id": "28256afd",
   "metadata": {},
   "source": [
    "## Types of Machine Learning\n",
    "\n",
    "Machine learning can be broadly categorized into three main types based on the nature of the learning task:\n",
    "\n",
    "-   ****Supervised Learning****: The model is trained on a labeled dataset, where each observation has a corresponding label. The goal is to learn a mapping from features to labels. Examples include ****classification**** and ****regression**** tasks.\n",
    "-   ****Unsupervised Learning****: The model is trained on an unlabeled dataset, where the goal is to find patterns or groupings in the data. Examples include ****clustering**** and ****dimensionality reduction**** tasks.\n",
    "-   ****Reinforcement Learning****: The model learns by interacting with an environment and receiving feedback in the form of rewards or penalties. The goal is to learn a policy that maximizes cumulative rewards over time.\n",
    "\n",
    "We will explore these concepts in more detail in a bit, but for now, it is important to understand that machine learning relies heavily on data and the relationships between features and labels.\n",
    "\n",
    "We will also introduce more advanced concepts in later sessions, as needed."
   ]
  },
  {
   "cell_type": "markdown",
   "id": "50bf583b",
   "metadata": {},
   "source": [
    "## Practical Demonstration\n",
    "\n",
    "The `scikit-learn` library, which is the most populuar machine learning library in Python, provides a wide range of tools for building and evaluating machine learning models. It includes datasets, preprocessing utilities, and various algorithms for classification, regression, clustering, and more.\n",
    "\n",
    "We will start by exploring some of the built-in datasets in `scikit-learn`, which are useful for learning and practicing machine learning concepts. These datasets are often used as benchmarks for testing algorithms and understanding their behavior.\n",
    "\n",
    "The first dataset we will explore is the ****Iris dataset****, which is a classic dataset in machine learning. It contains measurements of iris flowers and their corresponding species labels. The dataset has four features (sepal length, sepal width, petal length, and petal width) and three classes (species of iris).\n",
    "\n",
    "Import the necessary libraries and load the Iris dataset."
   ]
  },
  {
   "cell_type": "code",
   "execution_count": 1,
   "id": "b4f026b3",
   "metadata": {},
   "outputs": [],
   "source": [
    "from sklearn.datasets import load_iris\n",
    "data = load_iris()"
   ]
  },
  {
   "cell_type": "markdown",
   "id": "f267a0d8",
   "metadata": {},
   "source": [
    "The `iris` dataset is loaded as, essentially, a dictionary:"
   ]
  },
  {
   "cell_type": "code",
   "execution_count": 2,
   "id": "c264fe27",
   "metadata": {},
   "outputs": [
    {
     "name": "stdout",
     "output_type": "stream",
     "text": [
      "<class 'sklearn.utils._bunch.Bunch'>\n"
     ]
    }
   ],
   "source": [
    "print(type(data))"
   ]
  },
  {
   "cell_type": "markdown",
   "id": "70f33251",
   "metadata": {},
   "source": [
    "Let's print the keys of this dictionary:"
   ]
  },
  {
   "cell_type": "code",
   "execution_count": 3,
   "id": "2b65547f",
   "metadata": {},
   "outputs": [
    {
     "name": "stdout",
     "output_type": "stream",
     "text": [
      "dict_keys(['data', 'target', 'frame', 'target_names', 'DESCR', 'feature_names', 'filename', 'data_module'])\n"
     ]
    }
   ],
   "source": [
    "print(data.keys())"
   ]
  },
  {
   "cell_type": "markdown",
   "id": "57459dc7",
   "metadata": {},
   "source": [
    "Print the description of the dataset to understand its contents."
   ]
  },
  {
   "cell_type": "code",
   "execution_count": 4,
   "id": "e52b12e4",
   "metadata": {},
   "outputs": [
    {
     "name": "stdout",
     "output_type": "stream",
     "text": [
      ".. _iris_dataset:\n",
      "\n",
      "Iris plants dataset\n",
      "--------------------\n",
      "\n",
      "**Data Set Characteristics:**\n",
      "\n",
      ":Number of Instances: 150 (50 in each of three classes)\n",
      ":Number of Attributes: 4 numeric, predictive attributes and the class\n",
      ":Attribute Information:\n",
      "    - sepal length in cm\n",
      "    - sepal width in cm\n",
      "    - petal length in cm\n",
      "    - petal width in cm\n",
      "    - class:\n",
      "            - Iris-Setosa\n",
      "            - Iris-Versicolour\n",
      "            - Iris-Virginica\n",
      "\n",
      ":Summary Statistics:\n",
      "\n",
      "============== ==== ==== ======= ===== ====================\n",
      "                Min  Max   Mean    SD   Class Correlation\n",
      "============== ==== ==== ======= ===== ====================\n",
      "sepal length:   4.3  7.9   5.84   0.83    0.7826\n",
      "sepal width:    2.0  4.4   3.05   0.43   -0.4194\n",
      "petal length:   1.0  6.9   3.76   1.76    0.9490  (high!)\n",
      "petal width:    0.1  2.5   1.20   0.76    0.9565  (high!)\n",
      "============== ==== ==== ======= ===== ====================\n",
      "\n",
      ":Missing Attribute Values: None\n",
      ":Class Distribution: 33.3% for each of 3 classes.\n",
      ":Creator: R.A. Fisher\n",
      ":Donor: Michael Marshall (MARSHALL%PLU@io.arc.nasa.gov)\n",
      ":Date: July, 1988\n",
      "\n",
      "The famous Iris database, first used by Sir R.A. Fisher. The dataset is taken\n",
      "from Fisher's paper. Note that it's the same as in R, but not as in the UCI\n",
      "Machine Learning Repository, which has two wrong data points.\n",
      "\n",
      "This is perhaps the best known database to be found in the\n",
      "pattern recognition literature.  Fisher's paper is a classic in the field and\n",
      "is referenced frequently to this day.  (See Duda & Hart, for example.)  The\n",
      "data set contains 3 classes of 50 instances each, where each class refers to a\n",
      "type of iris plant.  One class is linearly separable from the other 2; the\n",
      "latter are NOT linearly separable from each other.\n",
      "\n",
      ".. dropdown:: References\n",
      "\n",
      "  - Fisher, R.A. \"The use of multiple measurements in taxonomic problems\"\n",
      "    Annual Eugenics, 7, Part II, 179-188 (1936); also in \"Contributions to\n",
      "    Mathematical Statistics\" (John Wiley, NY, 1950).\n",
      "  - Duda, R.O., & Hart, P.E. (1973) Pattern Classification and Scene Analysis.\n",
      "    (Q327.D83) John Wiley & Sons.  ISBN 0-471-22361-1.  See page 218.\n",
      "  - Dasarathy, B.V. (1980) \"Nosing Around the Neighborhood: A New System\n",
      "    Structure and Classification Rule for Recognition in Partially Exposed\n",
      "    Environments\".  IEEE Transactions on Pattern Analysis and Machine\n",
      "    Intelligence, Vol. PAMI-2, No. 1, 67-71.\n",
      "  - Gates, G.W. (1972) \"The Reduced Nearest Neighbor Rule\".  IEEE Transactions\n",
      "    on Information Theory, May 1972, 431-433.\n",
      "  - See also: 1988 MLC Proceedings, 54-64.  Cheeseman et al\"s AUTOCLASS II\n",
      "    conceptual clustering system finds 3 classes in the data.\n",
      "  - Many, many more ...\n",
      "\n"
     ]
    }
   ],
   "source": [
    "print(data['DESCR'])"
   ]
  },
  {
   "cell_type": "markdown",
   "id": "ce4601da",
   "metadata": {},
   "source": [
    "Load the data and target variables into a Pandas DataFrame for easier manipulation and visualization."
   ]
  },
  {
   "cell_type": "code",
   "execution_count": 5,
   "id": "c2d48f01",
   "metadata": {},
   "outputs": [
    {
     "data": {
      "text/html": [
       "<div>\n",
       "<style scoped>\n",
       "    .dataframe tbody tr th:only-of-type {\n",
       "        vertical-align: middle;\n",
       "    }\n",
       "\n",
       "    .dataframe tbody tr th {\n",
       "        vertical-align: top;\n",
       "    }\n",
       "\n",
       "    .dataframe thead th {\n",
       "        text-align: right;\n",
       "    }\n",
       "</style>\n",
       "<table border=\"1\" class=\"dataframe\">\n",
       "  <thead>\n",
       "    <tr style=\"text-align: right;\">\n",
       "      <th></th>\n",
       "      <th>sepal length (cm)</th>\n",
       "      <th>sepal width (cm)</th>\n",
       "      <th>petal length (cm)</th>\n",
       "      <th>petal width (cm)</th>\n",
       "      <th>species</th>\n",
       "    </tr>\n",
       "  </thead>\n",
       "  <tbody>\n",
       "    <tr>\n",
       "      <th>0</th>\n",
       "      <td>5.1</td>\n",
       "      <td>3.5</td>\n",
       "      <td>1.4</td>\n",
       "      <td>0.2</td>\n",
       "      <td>setosa</td>\n",
       "    </tr>\n",
       "    <tr>\n",
       "      <th>1</th>\n",
       "      <td>4.9</td>\n",
       "      <td>3.0</td>\n",
       "      <td>1.4</td>\n",
       "      <td>0.2</td>\n",
       "      <td>setosa</td>\n",
       "    </tr>\n",
       "    <tr>\n",
       "      <th>2</th>\n",
       "      <td>4.7</td>\n",
       "      <td>3.2</td>\n",
       "      <td>1.3</td>\n",
       "      <td>0.2</td>\n",
       "      <td>setosa</td>\n",
       "    </tr>\n",
       "    <tr>\n",
       "      <th>3</th>\n",
       "      <td>4.6</td>\n",
       "      <td>3.1</td>\n",
       "      <td>1.5</td>\n",
       "      <td>0.2</td>\n",
       "      <td>setosa</td>\n",
       "    </tr>\n",
       "    <tr>\n",
       "      <th>4</th>\n",
       "      <td>5.0</td>\n",
       "      <td>3.6</td>\n",
       "      <td>1.4</td>\n",
       "      <td>0.2</td>\n",
       "      <td>setosa</td>\n",
       "    </tr>\n",
       "    <tr>\n",
       "      <th>...</th>\n",
       "      <td>...</td>\n",
       "      <td>...</td>\n",
       "      <td>...</td>\n",
       "      <td>...</td>\n",
       "      <td>...</td>\n",
       "    </tr>\n",
       "    <tr>\n",
       "      <th>145</th>\n",
       "      <td>6.7</td>\n",
       "      <td>3.0</td>\n",
       "      <td>5.2</td>\n",
       "      <td>2.3</td>\n",
       "      <td>virginica</td>\n",
       "    </tr>\n",
       "    <tr>\n",
       "      <th>146</th>\n",
       "      <td>6.3</td>\n",
       "      <td>2.5</td>\n",
       "      <td>5.0</td>\n",
       "      <td>1.9</td>\n",
       "      <td>virginica</td>\n",
       "    </tr>\n",
       "    <tr>\n",
       "      <th>147</th>\n",
       "      <td>6.5</td>\n",
       "      <td>3.0</td>\n",
       "      <td>5.2</td>\n",
       "      <td>2.0</td>\n",
       "      <td>virginica</td>\n",
       "    </tr>\n",
       "    <tr>\n",
       "      <th>148</th>\n",
       "      <td>6.2</td>\n",
       "      <td>3.4</td>\n",
       "      <td>5.4</td>\n",
       "      <td>2.3</td>\n",
       "      <td>virginica</td>\n",
       "    </tr>\n",
       "    <tr>\n",
       "      <th>149</th>\n",
       "      <td>5.9</td>\n",
       "      <td>3.0</td>\n",
       "      <td>5.1</td>\n",
       "      <td>1.8</td>\n",
       "      <td>virginica</td>\n",
       "    </tr>\n",
       "  </tbody>\n",
       "</table>\n",
       "<p>150 rows × 5 columns</p>\n",
       "</div>"
      ],
      "text/plain": [
       "     sepal length (cm)  sepal width (cm)  petal length (cm)  petal width (cm)  \\\n",
       "0                  5.1               3.5                1.4               0.2   \n",
       "1                  4.9               3.0                1.4               0.2   \n",
       "2                  4.7               3.2                1.3               0.2   \n",
       "3                  4.6               3.1                1.5               0.2   \n",
       "4                  5.0               3.6                1.4               0.2   \n",
       "..                 ...               ...                ...               ...   \n",
       "145                6.7               3.0                5.2               2.3   \n",
       "146                6.3               2.5                5.0               1.9   \n",
       "147                6.5               3.0                5.2               2.0   \n",
       "148                6.2               3.4                5.4               2.3   \n",
       "149                5.9               3.0                5.1               1.8   \n",
       "\n",
       "       species  \n",
       "0       setosa  \n",
       "1       setosa  \n",
       "2       setosa  \n",
       "3       setosa  \n",
       "4       setosa  \n",
       "..         ...  \n",
       "145  virginica  \n",
       "146  virginica  \n",
       "147  virginica  \n",
       "148  virginica  \n",
       "149  virginica  \n",
       "\n",
       "[150 rows x 5 columns]"
      ]
     },
     "execution_count": 5,
     "metadata": {},
     "output_type": "execute_result"
    }
   ],
   "source": [
    "import pandas as pd\n",
    "df = pd.DataFrame(data=data['data'], \n",
    "                  columns=data['feature_names'])\n",
    "df['species'] = data['target_names'][data['target']]\n",
    "df"
   ]
  },
  {
   "cell_type": "markdown",
   "id": "8aae2343",
   "metadata": {},
   "source": [
    "Finally, let's save the DataFrame to a CSV file for later use."
   ]
  },
  {
   "cell_type": "code",
   "execution_count": 6,
   "id": "e1581e04",
   "metadata": {
    "lines_to_next_cell": 2
   },
   "outputs": [
    {
     "name": "stdout",
     "output_type": "stream",
     "text": [
      "Iris dataset saved to 'iris.csv'\n"
     ]
    }
   ],
   "source": [
    "df.to_csv('../../data/iris.csv', index=False)\n",
    "print(\"Iris dataset saved to 'iris.csv'\")"
   ]
  },
  {
   "cell_type": "markdown",
   "id": "56859ced",
   "metadata": {},
   "source": [
    "## Exercises\n",
    "\n",
    "Explore the California housing dataset:\n",
    "\n",
    "-   Load the California housing dataset from `scikit-learn` and transform it into a `pandas.DataFrame`\n",
    "-   Print the first few rows of the dataset, the names of the features and the target variable, and the number of observations and features in the dataset.\n",
    "-   Save the DataFrame to a CSV file for later use."
   ]
  }
 ],
 "metadata": {
  "jupytext": {
   "formats": "ipynb,md"
  },
  "kernelspec": {
   "display_name": "ML Workshop",
   "language": "python",
   "name": "ml_workshop"
  },
  "language_info": {
   "codemirror_mode": {
    "name": "ipython",
    "version": 3
   },
   "file_extension": ".py",
   "mimetype": "text/x-python",
   "name": "python",
   "nbconvert_exporter": "python",
   "pygments_lexer": "ipython3",
   "version": "3.13.3"
  }
 },
 "nbformat": 4,
 "nbformat_minor": 5
}
