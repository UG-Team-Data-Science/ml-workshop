{
 "cells": [
  {
   "cell_type": "markdown",
   "id": "60f471fd",
   "metadata": {},
   "source": [
    "\n",
    "# Introduction to Neural Networks\n",
    "\n",
    "Neural networks are a class of machine learning models that are particularly powerful for tasks involving complex patterns and large datasets. They are inspired by the structure and function of the human brain, consisting of interconnected nodes (neurons) that process information in layers.\n",
    "\n",
    "Neural networks can learn to approximate complex functions by adjusting the weights of connections between neurons based on the data they are trained on."
   ]
  },
  {
   "cell_type": "markdown",
   "id": "97fa90ac",
   "metadata": {},
   "source": [
    "## Artificial Neurons: A Biological Inspiration\n",
    "\n",
    "An artificial neuron is a mathematical function that mimics the behavior of a biological neuron. It receives inputs, applies weights to them, sums them up, and passes the result through an activation function to produce an output. This process allows the network to learn complex relationships in data. Mathematically, an artificial neuron can be represented as: $$ y = f\\left(\\sum_{i=1}^{n} w_i x_i + b\\right) $$ where:\n",
    "\n",
    "-   $y$ is the output of the neuron,\n",
    "-   $x_i$ are the inputs,\n",
    "-   $w_i$ are the weights associated with each input,\n",
    "-   $b$ is the bias term,\n",
    "-   $f$ is the activation function (e.g., sigmoid, ReLU)."
   ]
  },
  {
   "cell_type": "markdown",
   "id": "badfba54",
   "metadata": {},
   "source": [
    "## Activation Functions\n",
    "\n",
    "Activation functions introduce non-linearity into the model, allowing it to learn complex relationships. Common activation functions include:\n",
    "\n",
    "-   **Sigmoid**: Maps inputs to a range between 0 and 1, useful for binary classification.\n",
    "-   **ReLU (Rectified Linear Unit)**: Outputs the input directly if it is positive; otherwise, it outputs zero. It helps mitigate the vanishing gradient problem in deep networks.\n",
    "-   **Softmax**: Converts a vector of values into probabilities, often used in the output layer for multi-class classification tasks.\n",
    "-   **Tanh**: Maps inputs to a range between -1 and 1, often used in hidden layers."
   ]
  },
  {
   "cell_type": "markdown",
   "id": "f46ffd20",
   "metadata": {},
   "source": [
    "## Structure of Neural Networks\n",
    "\n",
    "Neural networks consist of layers of neurons:\n",
    "\n",
    "-   **Input Layer**: The first layer that receives the input data.\n",
    "-   **Hidden Layers**: Intermediate layers that perform transformations on the input data. Each neuron in a hidden layer applies a weighted sum of its inputs followed by an activation function.\n",
    "-   **Output Layer**: The final layer that produces the output of the network, which can be a single value (for regression) or a vector of probabilities (for classification)."
   ]
  },
  {
   "cell_type": "markdown",
   "id": "ddb910d5",
   "metadata": {},
   "source": [
    "## Training Neural Networks\n",
    "\n",
    "Training a neural network involves adjusting the weights and biases of the neurons to minimize the difference between the predicted outputs and the actual targets. This is typically done using a process called backpropagation, which computes gradients of the loss function with respect to each weight in the network. The training process can be summarized as follows:\n",
    "\n",
    "1.  **Forward Pass**: Input data is passed through the network to generate predictions.\n",
    "2.  **Loss Calculation**: The loss function computes the error between predicted outputs and actual targets.\n",
    "3.  **Backpropagation**: The algorithm calculates gradients of the loss with respect to each weight in the network, propagating the error backward through the layers.\n",
    "4.  **Weight Update**: Weights are adjusted using an optimization algorithm (e.g., Stochastic Gradient Descent, Adam) to minimize the loss function.\n",
    "5.  **Epochs**: The entire training dataset is passed through the network multiple times (epochs) to iteratively improve the model."
   ]
  },
  {
   "cell_type": "markdown",
   "id": "aa57430a",
   "metadata": {},
   "source": [
    "## Forward and Backward Propagation\n",
    "\n",
    "Forward propagation is the process of passing input data through the network to obtain predictions. Each neuron computes a weighted sum of its inputs, applies an activation function, and passes the result to the next layer. Backward propagation is the process of calculating gradients of the loss function with respect to each weight in the network. It involves:\n",
    "\n",
    "1.  Calculating the gradient of the loss with respect to the output of the network.\n",
    "2.  Propagating this gradient backward through the network, layer by layer, using the chain rule of calculus.\n",
    "3.  Updating the weights using the calculated gradients and a learning rate, which determines the step size in the weight update process."
   ]
  },
  {
   "cell_type": "markdown",
   "id": "90fb6ceb",
   "metadata": {},
   "source": [
    "## Loss Functions\n",
    "\n",
    "Loss functions measure the difference between the predicted outputs and the actual targets. They guide the training process by providing a signal for how well the model is performing. Common loss functions include:\n",
    "\n",
    "-   **Mean Squared Error (MSE)**: Used for regression tasks, it calculates the average of the squares of the errors between predicted and actual values.\n",
    "-   **Binary Cross-Entropy**: Used for binary classification tasks, it measures the dissimilarity between predicted probabilities and actual binary labels.\n",
    "-   **Categorical Cross-Entropy**: Used for multi-class classification tasks, it measures the dissimilarity between predicted class probabilities and actual one-hot encoded labels."
   ]
  },
  {
   "cell_type": "markdown",
   "id": "216942ab",
   "metadata": {},
   "source": [
    "## Optimization Algorithms\n",
    "\n",
    "Optimization algorithms are used to update the weights of the neural network during training. They aim to minimize the loss function by adjusting the weights in the direction of the steepest descent (negative gradient). Common optimization algorithms include:\n",
    "\n",
    "-   **Stochastic Gradient Descent (SGD)**: Updates weights using the gradient of the loss function computed on a single sample or a small batch of samples.\n",
    "-   **Adam (Adaptive Moment Estimation)**: Combines the benefits of both SGD and RMSProp, adapting the learning rate for each weight based on the first and second moments of the gradients.\n",
    "-   **RMSProp**: Adapts the learning rate for each weight based on the average of recent gradients, helping to stabilize training."
   ]
  },
  {
   "cell_type": "markdown",
   "id": "364d14b1",
   "metadata": {},
   "source": [
    "## Deep Learning\n",
    "\n",
    "Deep learning is a subfield of machine learning that focuses on neural networks with many layers (deep networks). These deep architectures can learn hierarchical representations of data, enabling them to capture complex patterns and features. Deep learning has led to significant advancements in various fields, including computer vision, natural language processing, and speech recognition."
   ]
  },
  {
   "cell_type": "markdown",
   "id": "d088a71d",
   "metadata": {},
   "source": [
    "## Example: Building a Simple Neural Network with Keras\n",
    "\n",
    "To illustrate the concepts of neural networks, we will build a simple feedforward neural network using Keras, a high-level neural networks API in TensorFlow. We will use the Iris dataset, a classic dataset for classification tasks, to demonstrate how to create, train, and evaluate a neural network model."
   ]
  },
  {
   "cell_type": "code",
   "execution_count": 1,
   "id": "7c475073",
   "metadata": {},
   "outputs": [
    {
     "name": "stderr",
     "output_type": "stream",
     "text": [
      "2025-07-10 08:59:43.378288: E external/local_xla/xla/stream_executor/cuda/cuda_fft.cc:467] Unable to register cuFFT factory: Attempting to register factory for plugin cuFFT when one has already been registered\n",
      "WARNING: All log messages before absl::InitializeLog() is called are written to STDERR\n",
      "E0000 00:00:1752130783.396552   24762 cuda_dnn.cc:8579] Unable to register cuDNN factory: Attempting to register factory for plugin cuDNN when one has already been registered\n",
      "E0000 00:00:1752130783.401871   24762 cuda_blas.cc:1407] Unable to register cuBLAS factory: Attempting to register factory for plugin cuBLAS when one has already been registered\n",
      "W0000 00:00:1752130783.415848   24762 computation_placer.cc:177] computation placer already registered. Please check linkage and avoid linking the same target more than once.\n",
      "W0000 00:00:1752130783.415872   24762 computation_placer.cc:177] computation placer already registered. Please check linkage and avoid linking the same target more than once.\n",
      "W0000 00:00:1752130783.415873   24762 computation_placer.cc:177] computation placer already registered. Please check linkage and avoid linking the same target more than once.\n",
      "W0000 00:00:1752130783.415875   24762 computation_placer.cc:177] computation placer already registered. Please check linkage and avoid linking the same target more than once.\n",
      "2025-07-10 08:59:43.420278: I tensorflow/core/platform/cpu_feature_guard.cc:210] This TensorFlow binary is optimized to use available CPU instructions in performance-critical operations.\n",
      "To enable the following instructions: AVX2 FMA, in other operations, rebuild TensorFlow with the appropriate compiler flags.\n",
      "I0000 00:00:1752130786.535223   24762 gpu_device.cc:2019] Created device /job:localhost/replica:0/task:0/device:GPU:0 with 6022 MB memory:  -> device: 0, name: NVIDIA GeForce RTX 2070 SUPER, pci bus id: 0000:09:00.0, compute capability: 7.5\n"
     ]
    },
    {
     "name": "stdout",
     "output_type": "stream",
     "text": [
      "Model summary:\n"
     ]
    },
    {
     "data": {
      "text/html": [
       "<pre style=\"white-space:pre;overflow-x:auto;line-height:normal;font-family:Menlo,'DejaVu Sans Mono',consolas,'Courier New',monospace\"><span style=\"font-weight: bold\">Model: \"sequential\"</span>\n",
       "</pre>\n"
      ],
      "text/plain": [
       "\u001b[1mModel: \"sequential\"\u001b[0m\n"
      ]
     },
     "metadata": {},
     "output_type": "display_data"
    },
    {
     "data": {
      "text/html": [
       "<pre style=\"white-space:pre;overflow-x:auto;line-height:normal;font-family:Menlo,'DejaVu Sans Mono',consolas,'Courier New',monospace\">┏━━━━━━━━━━━━━━━━━━━━━━━━━━━━━━━━━┳━━━━━━━━━━━━━━━━━━━━━━━━┳━━━━━━━━━━━━━━━┓\n",
       "┃<span style=\"font-weight: bold\"> Layer (type)                    </span>┃<span style=\"font-weight: bold\"> Output Shape           </span>┃<span style=\"font-weight: bold\">       Param # </span>┃\n",
       "┡━━━━━━━━━━━━━━━━━━━━━━━━━━━━━━━━━╇━━━━━━━━━━━━━━━━━━━━━━━━╇━━━━━━━━━━━━━━━┩\n",
       "│ dense (<span style=\"color: #0087ff; text-decoration-color: #0087ff\">Dense</span>)                   │ (<span style=\"color: #00d7ff; text-decoration-color: #00d7ff\">None</span>, <span style=\"color: #00af00; text-decoration-color: #00af00\">8</span>)              │            <span style=\"color: #00af00; text-decoration-color: #00af00\">40</span> │\n",
       "├─────────────────────────────────┼────────────────────────┼───────────────┤\n",
       "│ dense_1 (<span style=\"color: #0087ff; text-decoration-color: #0087ff\">Dense</span>)                 │ (<span style=\"color: #00d7ff; text-decoration-color: #00d7ff\">None</span>, <span style=\"color: #00af00; text-decoration-color: #00af00\">3</span>)              │            <span style=\"color: #00af00; text-decoration-color: #00af00\">27</span> │\n",
       "└─────────────────────────────────┴────────────────────────┴───────────────┘\n",
       "</pre>\n"
      ],
      "text/plain": [
       "┏━━━━━━━━━━━━━━━━━━━━━━━━━━━━━━━━━┳━━━━━━━━━━━━━━━━━━━━━━━━┳━━━━━━━━━━━━━━━┓\n",
       "┃\u001b[1m \u001b[0m\u001b[1mLayer (type)                   \u001b[0m\u001b[1m \u001b[0m┃\u001b[1m \u001b[0m\u001b[1mOutput Shape          \u001b[0m\u001b[1m \u001b[0m┃\u001b[1m \u001b[0m\u001b[1m      Param #\u001b[0m\u001b[1m \u001b[0m┃\n",
       "┡━━━━━━━━━━━━━━━━━━━━━━━━━━━━━━━━━╇━━━━━━━━━━━━━━━━━━━━━━━━╇━━━━━━━━━━━━━━━┩\n",
       "│ dense (\u001b[38;5;33mDense\u001b[0m)                   │ (\u001b[38;5;45mNone\u001b[0m, \u001b[38;5;34m8\u001b[0m)              │            \u001b[38;5;34m40\u001b[0m │\n",
       "├─────────────────────────────────┼────────────────────────┼───────────────┤\n",
       "│ dense_1 (\u001b[38;5;33mDense\u001b[0m)                 │ (\u001b[38;5;45mNone\u001b[0m, \u001b[38;5;34m3\u001b[0m)              │            \u001b[38;5;34m27\u001b[0m │\n",
       "└─────────────────────────────────┴────────────────────────┴───────────────┘\n"
      ]
     },
     "metadata": {},
     "output_type": "display_data"
    },
    {
     "data": {
      "text/html": [
       "<pre style=\"white-space:pre;overflow-x:auto;line-height:normal;font-family:Menlo,'DejaVu Sans Mono',consolas,'Courier New',monospace\"><span style=\"font-weight: bold\"> Total params: </span><span style=\"color: #00af00; text-decoration-color: #00af00\">67</span> (268.00 B)\n",
       "</pre>\n"
      ],
      "text/plain": [
       "\u001b[1m Total params: \u001b[0m\u001b[38;5;34m67\u001b[0m (268.00 B)\n"
      ]
     },
     "metadata": {},
     "output_type": "display_data"
    },
    {
     "data": {
      "text/html": [
       "<pre style=\"white-space:pre;overflow-x:auto;line-height:normal;font-family:Menlo,'DejaVu Sans Mono',consolas,'Courier New',monospace\"><span style=\"font-weight: bold\"> Trainable params: </span><span style=\"color: #00af00; text-decoration-color: #00af00\">67</span> (268.00 B)\n",
       "</pre>\n"
      ],
      "text/plain": [
       "\u001b[1m Trainable params: \u001b[0m\u001b[38;5;34m67\u001b[0m (268.00 B)\n"
      ]
     },
     "metadata": {},
     "output_type": "display_data"
    },
    {
     "data": {
      "text/html": [
       "<pre style=\"white-space:pre;overflow-x:auto;line-height:normal;font-family:Menlo,'DejaVu Sans Mono',consolas,'Courier New',monospace\"><span style=\"font-weight: bold\"> Non-trainable params: </span><span style=\"color: #00af00; text-decoration-color: #00af00\">0</span> (0.00 B)\n",
       "</pre>\n"
      ],
      "text/plain": [
       "\u001b[1m Non-trainable params: \u001b[0m\u001b[38;5;34m0\u001b[0m (0.00 B)\n"
      ]
     },
     "metadata": {},
     "output_type": "display_data"
    },
    {
     "name": "stdout",
     "output_type": "stream",
     "text": [
      "None\n"
     ]
    },
    {
     "name": "stderr",
     "output_type": "stream",
     "text": [
      "WARNING: All log messages before absl::InitializeLog() is called are written to STDERR\n",
      "I0000 00:00:1752130787.608152   24885 service.cc:152] XLA service 0x7421a40049a0 initialized for platform CUDA (this does not guarantee that XLA will be used). Devices:\n",
      "I0000 00:00:1752130787.608171   24885 service.cc:160]   StreamExecutor device (0): NVIDIA GeForce RTX 2070 SUPER, Compute Capability 7.5\n",
      "2025-07-10 08:59:47.625303: I tensorflow/compiler/mlir/tensorflow/utils/dump_mlir_util.cc:269] disabling MLIR crash reproducer, set env var `MLIR_CRASH_REPRODUCER_DIRECTORY` to enable.\n",
      "I0000 00:00:1752130787.692249   24885 cuda_dnn.cc:529] Loaded cuDNN version 90300\n",
      "I0000 00:00:1752130787.929256   24885 device_compiler.h:188] Compiled cluster using XLA!  This line is logged at most once for the lifetime of the process.\n"
     ]
    }
   ],
   "source": [
    "import tensorflow as tf\n",
    "from tensorflow.keras.models import Sequential\n",
    "from tensorflow.keras.layers import Input, Dense\n",
    "from sklearn.datasets import load_iris\n",
    "from sklearn.model_selection import train_test_split\n",
    "from sklearn.preprocessing import StandardScaler\n",
    "from tensorflow.keras.utils import to_categorical\n",
    "\n",
    "# Load and preprocess data\n",
    "data = load_iris()\n",
    "X = StandardScaler().fit_transform(data.data)  # Standardize features\n",
    "y = to_categorical(data.target)  # One-hot encode labels\n",
    "\n",
    "X_train, X_test, y_train, y_test = train_test_split(X, y, test_size=0.2, random_state=42)\n",
    "\n",
    "# Build model\n",
    "model = Sequential([\n",
    "    Input(shape=(X.shape[1],)),  # Input layer\n",
    "    Dense(8, activation='relu'),\n",
    "    Dense(3, activation='softmax')  # 3 output classes for Iris dataset\n",
    "])\n",
    "print(\"Model summary:\")\n",
    "print(model.summary())\n",
    "\n",
    "model.compile(optimizer='adam', loss='categorical_crossentropy', metrics=['accuracy'])\n",
    "history = model.fit(X_train, y_train, epochs=50, batch_size=8, verbose=0)"
   ]
  },
  {
   "cell_type": "markdown",
   "id": "82b81985",
   "metadata": {},
   "source": [
    "-   Evaluate the model on the test set to see how well it performs."
   ]
  },
  {
   "cell_type": "code",
   "execution_count": 2,
   "id": "4c163645",
   "metadata": {},
   "outputs": [
    {
     "name": "stdout",
     "output_type": "stream",
     "text": [
      "Test accuracy: 0.93\n",
      "Classification Report:\n",
      "\u001b[1m1/1\u001b[0m \u001b[32m━━━━━━━━━━━━━━━━━━━━\u001b[0m\u001b[37m\u001b[0m \u001b[1m0s\u001b[0m 123ms/step\n",
      "              precision    recall  f1-score   support\n",
      "\n",
      "           0       1.00      1.00      1.00        10\n",
      "           1       0.89      0.89      0.89         9\n",
      "           2       0.91      0.91      0.91        11\n",
      "\n",
      "    accuracy                           0.93        30\n",
      "   macro avg       0.93      0.93      0.93        30\n",
      "weighted avg       0.93      0.93      0.93        30\n",
      "\n"
     ]
    },
    {
     "data": {
      "image/png": "[encoded data removed]",
      "text/plain": [
       "<Figure size 640x480 with 1 Axes>"
      ]
     },
     "metadata": {},
     "output_type": "display_data"
    }
   ],
   "source": [
    "loss, acc = model.evaluate(X_test, y_test, verbose=0)\n",
    "print(f\"Test accuracy: {acc:.2f}\")\n",
    "\n",
    "print(\"Classification Report:\")\n",
    "from sklearn.metrics import classification_report\n",
    "y_pred = model.predict(X_test)\n",
    "y_pred_classes = tf.argmax(y_pred, axis=1)\n",
    "y_true_classes = tf.argmax(y_test, axis=1)\n",
    "print(classification_report(y_true_classes, y_pred_classes))\n",
    "\n",
    "# Visualize training history\n",
    "import matplotlib.pyplot as plt\n",
    "plt.plot(history.history['accuracy'], label='Training Accuracy')\n",
    "plt.title('Model Accuracy')\n",
    "plt.xlabel('Epochs')\n",
    "plt.ylabel('Accuracy')\n",
    "plt.legend()\n",
    "plt.show()"
   ]
  },
  {
   "cell_type": "markdown",
   "id": "c04477ce",
   "metadata": {},
   "source": [
    "-   Visualize the confusion matrix"
   ]
  },
  {
   "cell_type": "code",
   "execution_count": 3,
   "id": "f24ec39e",
   "metadata": {
    "lines_to_next_cell": 2
   },
   "outputs": [
    {
     "data": {
      "image/png": "[encoded data removed]",
      "text/plain": [
       "<Figure size 800x600 with 2 Axes>"
      ]
     },
     "metadata": {},
     "output_type": "display_data"
    }
   ],
   "source": [
    "# Visualize the confusion matrix\n",
    "from sklearn.metrics import confusion_matrix\n",
    "import seaborn as sns\n",
    "import numpy as np\n",
    "cm = confusion_matrix(y_true_classes, y_pred_classes)\n",
    "plt.figure(figsize=(8, 6))\n",
    "sns.heatmap(cm, annot=True, fmt='d', cmap='Blues', xticklabels=data.target_names, yticklabels=data.target_names)\n",
    "plt.xlabel('Predicted')\n",
    "plt.ylabel('True')\n",
    "plt.title('Confusion Matrix')\n",
    "plt.show()"
   ]
  },
  {
   "cell_type": "markdown",
   "id": "adff9ce8",
   "metadata": {},
   "source": [
    "## Hands-on Exercises\n",
    "\n",
    "-   Build a feedforward neural network using Keras for the titanic dataset.\n",
    "-   Use ReLU activation in the hidden layer and `sigmoid` activation in the output layer.\n",
    "-   Train the model and evaluate its accuracy on the test set.\n",
    "-   Add a hidden layers to increase model complexity.\n",
    "-   Implement dropout regularization to prevent overfitting."
   ]
  }
 ],
 "metadata": {
  "jupytext": {
   "formats": "ipynb,md"
  },
  "kernelspec": {
   "display_name": "ML Workshop",
   "language": "python",
   "name": "ml_workshop"
  },
  "language_info": {
   "codemirror_mode": {
    "name": "ipython",
    "version": 3
   },
   "file_extension": ".py",
   "mimetype": "text/x-python",
   "name": "python",
   "nbconvert_exporter": "python",
   "pygments_lexer": "ipython3",
   "version": "3.13.5"
  }
 },
 "nbformat": 4,
 "nbformat_minor": 5
}
