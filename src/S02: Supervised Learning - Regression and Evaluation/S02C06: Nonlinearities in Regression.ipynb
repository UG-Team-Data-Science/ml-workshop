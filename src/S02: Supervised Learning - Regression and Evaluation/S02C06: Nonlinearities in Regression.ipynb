{
 "cells": [
  {
   "cell_type": "markdown",
   "id": "f14bcbbe",
   "metadata": {},
   "source": [
    "\n",
    "# Nonlinearities in Regression\n",
    "\n",
    "In this section, we will explore the concept of nonlinearities in regression models. While linear regression is a powerful tool for modeling relationships between variables, it has limitations when it comes to capturing complex relationships in data. Nonlinear regression models can help address this limitation by allowing for more flexible relationships between the independent and dependent variables.\n",
    "\n",
    "Nonlinear regression models can take various forms, including ****polynomial regression****, ****exponential regression****, and ****logarithmic regression****. These models can capture relationships that are not well represented by a straight line, allowing for a more accurate representation of the underlying data."
   ]
  },
  {
   "cell_type": "markdown",
   "id": "6ac5ceed",
   "metadata": {},
   "source": [
    "## Types of Nonlinear Regression Models\n",
    "\n",
    "-   **Polynomial Regression**: This model fits a polynomial equation to the data, allowing for curves and bends in the relationship between the independent and dependent variables. The degree of the polynomial can be adjusted to capture more complex relationships.\n",
    "-   **Exponential Regression**: This model fits an exponential function to the data, which is useful for modeling relationships where the rate of change increases or decreases exponentially.\n",
    "-   **Logarithmic Regression**: This model fits a logarithmic function to the data, which is useful for modeling relationships where the rate of change decreases as the independent variable increases."
   ]
  },
  {
   "cell_type": "markdown",
   "id": "c18db580",
   "metadata": {},
   "source": [
    "## Practical Demonstration\n",
    "\n",
    "In this section, we will demonstrate how to implement nonlinear regression models using Python's `scikit-learn` library. We will use a synthetic dataset to illustrate the concepts of polynomial regression, exponential regression, and logarithmic regression. We will also explore how to evaluate the performance of these models using metrics such as Mean Squared Error (MSE) and R-squared ($R^2$) score.\n",
    "\n",
    "Let's start by generating a synthetic dataset that exhibits a nonlinear relationship between the independent variable (X) and the dependent variable (y). We will then fit a polynomial regression model to this data and visualize the results.\n",
    "\n",
    "-   Generate Synthetic Data with the following mathematical relationship:$$y = 3X^2 + 8 + \\epsilon$$ where $\\epsilon$ is a normally distributed error term."
   ]
  },
  {
   "cell_type": "code",
   "execution_count": null,
   "id": "dc5b006a",
   "metadata": {},
   "outputs": [],
   "source": [
    "import numpy as np\n",
    "import pandas as pd\n",
    "\n",
    "n_samples = 100\n",
    "np.random.seed(42)\n",
    "X = np.linspace(-3, 3, n_samples).reshape(-1, 1)  # Independent variable\n",
    "y = 3 * X**2 + 8 + 1.0 * np.random.randn(100, 1)  # Dependent variable with noise\n",
    "\n",
    "data = pd.DataFrame(np.hstack((X, y)), columns=['X', 'y'])"
   ]
  },
  {
   "cell_type": "markdown",
   "id": "f26362de",
   "metadata": {},
   "source": [
    "-   Exploratory Data Analysis (EDA)"
   ]
  },
  {
   "cell_type": "code",
   "execution_count": null,
   "id": "bfb2a33b",
   "metadata": {},
   "outputs": [],
   "source": [
    "import matplotlib.pyplot as plt\n",
    "import seaborn as sns\n",
    "\n",
    "sns.set(style='whitegrid')\n",
    "plt.figure(figsize=(10, 6))\n",
    "plt.scatter(data['X'], data['y'], color='blue', label='Data Points')\n",
    "plt.title('Synthetic Data with Nonlinear Relationship')\n",
    "plt.xlabel('X')\n",
    "plt.ylabel('y')\n",
    "plt.legend()\n",
    "plt.show()"
   ]
  },
  {
   "cell_type": "markdown",
   "id": "dbd7dc0f",
   "metadata": {},
   "source": [
    "-   Train a Simple Linear Regression Model"
   ]
  },
  {
   "cell_type": "code",
   "execution_count": null,
   "id": "40697ddd",
   "metadata": {},
   "outputs": [],
   "source": [
    "from sklearn.linear_model import LinearRegression\n",
    "from sklearn.model_selection import train_test_split\n",
    "\n",
    "X_train, X_test, y_train, y_test = train_test_split(data[['X']], data['y'], test_size=0.2, random_state=42)\n",
    "\n",
    "linear_model = LinearRegression()\n",
    "linear_model.fit(X_train, y_train)\n",
    "\n",
    "print(f\"Linear Regression Coefficients: {linear_model.coef_}\")\n",
    "print(f\"Linear Regression Intercept: {linear_model.intercept_}\")"
   ]
  },
  {
   "cell_type": "markdown",
   "id": "d5049b37",
   "metadata": {},
   "source": [
    "-   Make Predictions and Evaluate the Linear Regression Model"
   ]
  },
  {
   "cell_type": "code",
   "execution_count": null,
   "id": "0483832e",
   "metadata": {},
   "outputs": [],
   "source": [
    "from sklearn.metrics import mean_squared_error, r2_score\n",
    "\n",
    "y_pred_linear = linear_model.predict(X_test)\n",
    "\n",
    "mse_linear = mean_squared_error(y_test, y_pred_linear)\n",
    "r2_linear = r2_score(y_test, y_pred_linear)\n",
    "\n",
    "print(f\"Linear Regression Mean Squared Error (MSE): {mse_linear:.2f}\")\n",
    "print(f\"Linear Regression R-squared (R^2): {r2_linear:.2f}\")\n",
    "\n",
    "plt.figure(figsize=(10, 6))\n",
    "plt.scatter(X_test, y_test, color='blue', label='Actual Data')\n",
    "sns.lineplot(x=X_test.squeeze(), y=y_pred_linear, color='red', label='Linear Regression Prediction', linewidth=2)\n",
    "plt.title('Linear Regression - Actual vs Predicted')\n",
    "plt.xlabel('X')\n",
    "plt.ylabel('y')\n",
    "plt.legend()\n",
    "plt.show()"
   ]
  },
  {
   "cell_type": "markdown",
   "id": "caa89f7a",
   "metadata": {},
   "source": [
    "The linear regression model does not fit the data well, as expected, since the relationship is nonlinear. Now, let's fit a polynomial regression model to capture the nonlinear relationship.\n",
    "\n",
    "-   Train a Polynomial Regression Model"
   ]
  },
  {
   "cell_type": "code",
   "execution_count": null,
   "id": "4cb10890",
   "metadata": {},
   "outputs": [],
   "source": [
    "from sklearn.preprocessing import PolynomialFeatures\n",
    "\n",
    "degree = 2  # Degree of the polynomial\n",
    "polynomial_features = PolynomialFeatures(degree=degree)\n",
    "X_train_poly = polynomial_features.fit_transform(X_train)\n",
    "X_test_poly = polynomial_features.transform(X_test)\n",
    "\n",
    "polynomial_model = LinearRegression()\n",
    "polynomial_model.fit(X_train_poly, y_train)\n",
    "print(f\"Polynomial Regression Coefficients: {polynomial_model.coef_}\")"
   ]
  },
  {
   "cell_type": "markdown",
   "id": "81183a80",
   "metadata": {},
   "source": [
    "-   Make Predictions and Evaluate the Polynomial Regression Model"
   ]
  },
  {
   "cell_type": "code",
   "execution_count": null,
   "id": "e73dd032",
   "metadata": {
    "lines_to_next_cell": 2,
    "scrolled": true
   },
   "outputs": [],
   "source": [
    "y_pred_poly = polynomial_model.predict(X_test_poly)\n",
    "\n",
    "mse_poly = mean_squared_error(y_test, y_pred_poly)\n",
    "r2_poly = r2_score(y_test, y_pred_poly)\n",
    "\n",
    "print(f\"Polynomial Regression Mean Squared Error (MSE): {mse_poly:.2f}\")\n",
    "print(f\"Polynomial Regression R-squared (R^2): {r2_poly:.2f}\")\n",
    "\n",
    "plt.figure(figsize=(10, 6))\n",
    "plt.scatter(X_test, y_test, color='blue', label='Actual Data')\n",
    "sns.lineplot(x=X_test.squeeze(), y=y_pred_poly, color='red', label='Polynomial Regression Prediction', linewidth=2)\n",
    "plt.title('Polynomial Regression - Actual vs Predicted')\n",
    "plt.xlabel('X')\n",
    "plt.ylabel('y')\n",
    "plt.legend()\n",
    "plt.show()"
   ]
  },
  {
   "cell_type": "markdown",
   "id": "a3271fed",
   "metadata": {},
   "source": [
    "## Hands-on Exercises\n",
    "\n",
    "-   Generate Synthetic Data with a Polynomial Relationship:$$y = X^3 + 2X + \\epsilon$$ where $\\epsilon$ is a normally distributed error term.\n",
    "-   Exploratory Data Analysis (EDA)\n",
    "-   Split the Data into Training and Testing Sets\n",
    "-   Train a Simple Linear Regression Model\n",
    "-   Make Predictions and Evaluate the Linear Regression Model\n",
    "-   Train a Polynomial Regression Model\n",
    "-   Make Predictions and Evaluate the Polynomial Regression Model"
   ]
  }
 ],
 "metadata": {
  "jupytext": {
   "formats": "ipynb,md"
  },
  "kernelspec": {
   "display_name": "ML Workshop",
   "language": "python",
   "name": "ml_workshop"
  },
  "language_info": {
   "codemirror_mode": {
    "name": "ipython",
    "version": 3
   },
   "file_extension": ".py",
   "mimetype": "text/x-python",
   "name": "python",
   "nbconvert_exporter": "python",
   "pygments_lexer": "ipython3",
   "version": "3.13.3"
  }
 },
 "nbformat": 4,
 "nbformat_minor": 5
}
