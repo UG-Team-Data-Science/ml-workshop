{
 "cells": [
  {
   "cell_type": "markdown",
   "id": "8b5cb16f",
   "metadata": {},
   "source": [
    "# Bagging\n",
    "\n",
    "**Bagging**, or **Bootstrap Aggregating**, is a type of ensemble method that improves the stability and accuracy of machine learning algorithms by training multiple models on different subsets randomly sampled (with replacement) from the training data and then aggregating their predictions.\n",
    "\n",
    "The main steps involved in bagging are:\n",
    "\n",
    "1.  **Bootstrap Sampling**: Create multiple bootstrap samples from the original training dataset. Each bootstrap sample is created by randomly selecting instances from the original dataset with replacement, meaning some instances may appear multiple times while others may not appear at all.\n",
    "2.  **Model Training**: Train a separate model on each bootstrap sample. This can be any machine learning algorithm, but decision trees are commonly used due to their high variance and low bias.\n",
    "3.  **Aggregation**: For regression tasks, the predictions from all models are averaged to produce the final prediction. For classification tasks, a majority vote is taken among the predictions of all models to determine the final class label.\n",
    "4.  **Final Prediction**: The aggregated prediction is then used as the final output of the bagging ensemble."
   ]
  },
  {
   "cell_type": "markdown",
   "id": "9d4761d4",
   "metadata": {},
   "source": [
    "## Advantages and Disadvantages\n",
    "\n",
    "Bagging has several advantages and disadvantages that make it suitable for various machine learning tasks:\n",
    "\n",
    "-   **Advantages**:\n",
    "    -   Can reduce variance and help prevent overfitting by averaging predictions from multiple models.\n",
    "    -   Can improve accuracy, especially with high-variance models like decision trees.\n",
    "    -   Robust to noise and outliers, as the aggregation process smooths out individual model errors.\n",
    "    -   Can be parallelized, as each model can be trained independently on its bootstrap sample, making it efficient for large datasets.\n",
    "-   **Disadvantages**:\n",
    "    -   Requires more computational resources due to training multiple models.\n",
    "    -   May not significantly improve performance if the base model is already stable and has low variance."
   ]
  },
  {
   "cell_type": "markdown",
   "id": "e5ef4ee8",
   "metadata": {},
   "source": [
    "### Example\n",
    "\n",
    "We will illustrate the concept of bagging using a simple example with a synthetic dataset. We will compare the performance of a single `DecisionTreeClassifier` model with a Bagging Classifier that uses the same model as its base estimator."
   ]
  },
  {
   "cell_type": "code",
   "execution_count": 1,
   "id": "622ce9f9",
   "metadata": {},
   "outputs": [
    {
     "name": "stdout",
     "output_type": "stream",
     "text": [
      "Single DecisionTreeClassifier Accuracy: 0.90\n",
      "Bagging Classifier Accuracy: 0.92\n"
     ]
    }
   ],
   "source": [
    "import numpy as np\n",
    "from sklearn.datasets import make_classification\n",
    "from sklearn.model_selection import train_test_split\n",
    "from sklearn.ensemble import BaggingClassifier\n",
    "from sklearn.tree import DecisionTreeClassifier\n",
    "\n",
    "# Generate a synthetic dataset\n",
    "X, y = make_classification(n_samples=1000, n_features=2, n_informative=2,\n",
    "                           n_redundant=0, random_state=42)\n",
    "\n",
    "# Split the dataset into training and testing sets\n",
    "X_train, X_test, y_train, y_test = \\\n",
    "    train_test_split(X, y, test_size=0.3, random_state=42)\n",
    "\n",
    "# Train a single DecisionTreeClassifier model\n",
    "single_model = DecisionTreeClassifier(random_state=42)\n",
    "single_model.fit(X_train, y_train)\n",
    "\n",
    "# Evaluate the single model\n",
    "single_accuracy = single_model.score(X_test, y_test)\n",
    "print(f\"Single DecisionTreeClassifier Accuracy: {single_accuracy:.2f}\")\n",
    "\n",
    "# Train a Bagging model with DecisionTreeClassifier as estimator\n",
    "bagging_model = BaggingClassifier(estimator=DecisionTreeClassifier(),\n",
    "                                  n_estimators=100, random_state=42)\n",
    "bagging_model.fit(X_train, y_train)\n",
    "\n",
    "# Evaluate the model\n",
    "accuracy = bagging_model.score(X_test, y_test)\n",
    "print(f\"Bagging Classifier Accuracy: {accuracy:.2f}\")"
   ]
  },
  {
   "cell_type": "markdown",
   "id": "415f32c0",
   "metadata": {},
   "source": [
    "The Bagging Classifier typically achieves higher accuracy than the single Decision Tree model due to the reduction in variance and improved generalization."
   ]
  },
  {
   "cell_type": "markdown",
   "id": "d2a01483",
   "metadata": {},
   "source": [
    "## Random Forests\n",
    "\n",
    "**Random Forests** is a popular ensemble method that uses bagging with decision trees as base models. It introduces additional randomness by selecting a random subset of features for each split in the decision tree, which helps to decorrelate the trees and further reduce overfitting.\n",
    "\n",
    "This method combines the strengths of bagging and decision trees, resulting in a powerful and flexible model that can handle both classification and regression tasks effectively."
   ]
  },
  {
   "cell_type": "markdown",
   "id": "6d97cb7d",
   "metadata": {},
   "source": [
    "### Example: Random Forest Classifier on the Titanic Dataset\n",
    "\n",
    "To illustrate the use of Random Forest, we will use the Titanic dataset and apply a Random Forest classifier. We will compare its performance with a single decision tree classifier to highlight the benefits of bagging.\n",
    "\n",
    "-   Load the Titanic dataset"
   ]
  },
  {
   "cell_type": "code",
   "execution_count": 2,
   "id": "419f4da9",
   "metadata": {},
   "outputs": [],
   "source": [
    "import pandas as pd\n",
    "from sklearn.datasets import fetch_openml\n",
    "\n",
    "data = fetch_openml('titanic', version=1, as_frame=True)\n",
    "df = data.frame\n",
    "\n",
    "df_sub = df[['pclass', 'sex', 'age', 'survived']].copy()\n",
    "\n",
    "X = df_sub.drop('survived', axis=1)\n",
    "y = df_sub['survived']"
   ]
  },
  {
   "cell_type": "markdown",
   "id": "5b1808e1",
   "metadata": {},
   "source": [
    "-   Split the dataset into training and testing sets"
   ]
  },
  {
   "cell_type": "code",
   "execution_count": 3,
   "id": "13d29888-ab1d-48bd-a974-24014b144288",
   "metadata": {},
   "outputs": [
    {
     "name": "stdout",
     "output_type": "stream",
     "text": [
      "Training set size: 916, Test set size: 393\n",
      "Features: ['pclass', 'sex', 'age']\n"
     ]
    }
   ],
   "source": [
    "from sklearn.model_selection import train_test_split\n",
    "\n",
    "X_train, X_test, y_train, y_test = \\\n",
    "    train_test_split(X, y, test_size=0.3, random_state=42)\n",
    "print(f\"Training set size: {X_train.shape[0]}, Test set size: {X_test.shape[0]}\")\n",
    "print(f\"Features: {X_train.columns.tolist()}\")"
   ]
  },
  {
   "cell_type": "markdown",
   "id": "53813391",
   "metadata": {},
   "source": [
    "-   Preprocess the data"
   ]
  },
  {
   "cell_type": "code",
   "execution_count": 4,
   "id": "51091908-d794-44bd-a2d1-10d2d9c1d38b",
   "metadata": {},
   "outputs": [],
   "source": [
    "from sklearn.preprocessing import OneHotEncoder, StandardScaler\n",
    "from sklearn.compose import ColumnTransformer\n",
    "from sklearn.pipeline import Pipeline\n",
    "from sklearn.impute import SimpleImputer\n",
    "\n",
    "# Create a preprocessing pipeline\n",
    "preprocessing_pipeline = ColumnTransformer(\n",
    "    transformers=[\n",
    "        ('num', Pipeline(\n",
    "            steps=[\n",
    "                ('imputer', SimpleImputer(strategy='mean')),\n",
    "                ('scaler', StandardScaler())\n",
    "            ]\n",
    "        ), ['age']),\n",
    "        ('sex', Pipeline(steps=[\n",
    "            ('encoder', OneHotEncoder(drop='first', sparse_output=False))\n",
    "        ]), ['sex']),\n",
    "        ('pclass', Pipeline(steps=[\n",
    "            ('encoder', OneHotEncoder(sparse_output=False))\n",
    "        ]), ['pclass'])\n",
    "    ],\n",
    "    remainder='passthrough'\n",
    ")\n",
    "\n",
    "# Fit and transform the training data\n",
    "X_train_transformed = preprocessing_pipeline.fit_transform(X_train)\n",
    "X_test_transformed = preprocessing_pipeline.transform(X_test)"
   ]
  },
  {
   "cell_type": "markdown",
   "id": "31c94b82",
   "metadata": {},
   "source": [
    "-   Train a single Decision Tree classifier"
   ]
  },
  {
   "cell_type": "code",
   "execution_count": 5,
   "id": "1cbfe8c2",
   "metadata": {},
   "outputs": [
    {
     "name": "stdout",
     "output_type": "stream",
     "text": [
      "Fitting 5 folds for each of 36 candidates, totalling 180 fits\n",
      "Single Decision Tree Classifier Accuracy: 0.76\n",
      "Feature Importances from Single Decision Tree:\n",
      "sex__sex_male       0.580959\n",
      "pclass__pclass_3    0.226990\n",
      "num__age            0.147395\n",
      "pclass__pclass_1    0.042398\n",
      "pclass__pclass_2    0.002258\n",
      "dtype: float64\n"
     ]
    },
    {
     "data": {
      "image/png": "[encoded data removed]",
      "text/plain": [
       "<Figure size 1200x600 with 1 Axes>"
      ]
     },
     "metadata": {},
     "output_type": "display_data"
    }
   ],
   "source": [
    "from sklearn.tree import DecisionTreeClassifier\n",
    "from sklearn.model_selection import GridSearchCV\n",
    "\n",
    "# Train a single Decision Tree classifier\n",
    "single_tree_model = DecisionTreeClassifier(random_state=42)\n",
    "grid_params = {\n",
    "    'max_depth': [None, 5, 10, 15],\n",
    "    'min_samples_split': [2, 5, 10],\n",
    "    'min_samples_leaf': [1, 2, 4]\n",
    "}\n",
    "\n",
    "# Perform grid search for hyperparameter tuning\n",
    "grid_search = GridSearchCV(single_tree_model, grid_params, cv=5, n_jobs=-1, verbose=1)\n",
    "grid_search.fit(X_train_transformed, y_train)\n",
    "single_tree_model = grid_search.best_estimator_\n",
    "single_tree_model.fit(X_train_transformed, y_train)\n",
    "\n",
    "# Evaluate the single model\n",
    "single_tree_accuracy = single_tree_model.score(X_test_transformed, y_test)\n",
    "print(f\"Single Decision Tree Classifier Accuracy: {single_tree_accuracy:.2f}\")\n",
    "\n",
    "# Feature importances\n",
    "single_tree_importances = single_tree_model.feature_importances_\n",
    "st_indices = single_tree_importances.argsort()[::-1]\n",
    "\n",
    "feature_names = preprocessing_pipeline.get_feature_names_out()\n",
    "feature_importances = pd.Series(single_tree_importances, index=feature_names)\n",
    "print(\"Feature Importances from Single Decision Tree:\")\n",
    "print(feature_importances.sort_values(ascending=False))\n",
    "\n",
    "# Plot feature importances\n",
    "import matplotlib.pyplot as plt\n",
    "import seaborn as sns\n",
    "plt.figure(figsize=(12, 6))\n",
    "sns.barplot(x=feature_importances.sort_values(ascending=False).index,\n",
    "            y=feature_importances.sort_values(ascending=False).values)\n",
    "plt.title('Feature Importances from Single Decision Tree')\n",
    "plt.xlabel('Features')\n",
    "plt.ylabel('Importance')\n",
    "plt.xticks(rotation=45)\n",
    "plt.tight_layout()\n",
    "plt.show()"
   ]
  },
  {
   "cell_type": "markdown",
   "id": "65fb01ba",
   "metadata": {},
   "source": [
    "-   Train a Random Forest classifier"
   ]
  },
  {
   "cell_type": "code",
   "execution_count": 6,
   "id": "364c431f",
   "metadata": {
    "lines_to_next_cell": 2
   },
   "outputs": [
    {
     "name": "stdout",
     "output_type": "stream",
     "text": [
      "Fitting 5 folds for each of 216 candidates, totalling 1080 fits\n",
      "Random Forest Classifier Accuracy: 0.77\n",
      "Feature Importances from Random Forest:\n",
      "sex__sex_male       0.528668\n",
      "num__age            0.232155\n",
      "pclass__pclass_3    0.112150\n",
      "pclass__pclass_1    0.102198\n",
      "pclass__pclass_2    0.024828\n",
      "dtype: float64\n"
     ]
    },
    {
     "data": {
      "text/plain": [
       "<Axes: xlabel='Feature'>"
      ]
     },
     "execution_count": 6,
     "metadata": {},
     "output_type": "execute_result"
    },
    {
     "data": {
      "text/plain": [
       "<Figure size 1200x600 with 0 Axes>"
      ]
     },
     "metadata": {},
     "output_type": "display_data"
    },
    {
     "data": {
      "image/png": "[encoded data removed]",
      "text/plain": [
       "<Figure size 640x480 with 1 Axes>"
      ]
     },
     "metadata": {},
     "output_type": "display_data"
    }
   ],
   "source": [
    "from sklearn.ensemble import RandomForestClassifier\n",
    "from sklearn.model_selection import GridSearchCV\n",
    "\n",
    "# Train a Random Forest classifier\n",
    "rf_model = RandomForestClassifier(n_estimators=100, random_state=42)\n",
    "grid_params_rf = {\n",
    "    'max_depth': [None, 5, 10, 15],\n",
    "    'min_samples_split': [2, 5, 10],\n",
    "    'min_samples_leaf': [1, 2, 4],\n",
    "    'n_estimators': [50, 100, 200],\n",
    "    'max_features': ['sqrt', 'log2']\n",
    "}\n",
    "\n",
    "# Perform grid search for hyperparameter tuning\n",
    "grid_search_rf = GridSearchCV(rf_model, grid_params_rf, cv=5, n_jobs=-1, verbose=1)\n",
    "grid_search_rf.fit(X_train_transformed, y_train)\n",
    "rf_model = grid_search_rf.best_estimator_\n",
    "rf_model.fit(X_train_transformed, y_train)\n",
    "\n",
    "# Evaluate the Random Forest model\n",
    "rf_accuracy = rf_model.score(X_test_transformed, y_test)\n",
    "print(f\"Random Forest Classifier Accuracy: {rf_accuracy:.2f}\")\n",
    "\n",
    "# Feature importances\n",
    "rf_importances = rf_model.feature_importances_\n",
    "rf_feature_importances = pd.Series(rf_importances, index=feature_names)\n",
    "print(\"Feature Importances from Random Forest:\")\n",
    "print(rf_feature_importances.sort_values(ascending=False))\n",
    "\n",
    "# Create a dataframe for feature importances\n",
    "feature_importances = pd.DataFrame({\n",
    "    'Feature': feature_names,\n",
    "    'Decision Tree Importance': single_tree_importances,\n",
    "    'Random Forest Importance': rf_importances\n",
    "}).set_index('Feature')\n",
    "\n",
    "# Compare feature importances\n",
    "import matplotlib.pyplot as plt\n",
    "import seaborn as sns\n",
    "\n",
    "# Plot feature importances from Random Forest and Single Decision Tree in a stacked bar chart\n",
    "plt.figure(figsize=(12, 6))\n",
    "feature_importances.plot(kind='bar', stacked=False)"
   ]
  },
  {
   "cell_type": "markdown",
   "id": "341bae0f",
   "metadata": {},
   "source": [
    "## Hands-on Exercises\n",
    "\n",
    "**Bagging with Different Base Models**: Implement bagging using different base models (e.g., logistic regression, SVM) and compare their performance on a classification dataset.\n",
    "\n",
    "-   Load the dataset\n",
    "-   Train a Bagging Classifier with Logistic Regression as the base model\n",
    "-   Train a Bagging Classifier with SVM as the base model"
   ]
  }
 ],
 "metadata": {
  "jupytext": {
   "formats": "ipynb,md"
  },
  "kernelspec": {
   "display_name": "ML Workshop",
   "language": "python",
   "name": "ml_workshop"
  },
  "language_info": {
   "codemirror_mode": {
    "name": "ipython",
    "version": 3
   },
   "file_extension": ".py",
   "mimetype": "text/x-python",
   "name": "python",
   "nbconvert_exporter": "python",
   "pygments_lexer": "ipython3",
   "version": "3.13.3"
  }
 },
 "nbformat": 4,
 "nbformat_minor": 5
}
