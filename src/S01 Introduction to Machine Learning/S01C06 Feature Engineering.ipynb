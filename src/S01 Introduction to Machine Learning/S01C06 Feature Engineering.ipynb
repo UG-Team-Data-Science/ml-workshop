{
 "cells": [
  {
   "cell_type": "markdown",
   "id": "87ce56d5",
   "metadata": {},
   "source": [
    "\n",
    "# Feature Engineering\n",
    "\n",
    "Feature engineering is the process of transforming raw data into meaningful input variables (features) for machine learning models. It is a crucial step that can significantly impact model performance and interpretability.\n",
    "\n",
    "It combines **Domain knowledge**, **Data intuition**, and **Mathematical transformations** to create new features that help models learn better."
   ]
  },
  {
   "cell_type": "markdown",
   "id": "785b23b7",
   "metadata": {},
   "source": [
    "## Common Feature Engineering Techniques\n",
    "\n",
    "-   **Polynomial features** (e.g. $x^2$, $xy$)\n",
    "-   **Log/exp/sqrt transformations**\n",
    "-   **Ratios** and **derived metrics** (e.g., $\\text{BMI} = \\text{weight} / \\text{height}^2$)\n",
    "-   **Discretization/Binning** (e.g. age $\\Rightarrow$ age groups)\n",
    "-   **Time-based features** (e.g. time since last event, weekday vs weekend)\n",
    "-   **Interaction features** (e.g. combining `income` $\\times$ `education level`)\n",
    "-   **Domain-specific rules** (e.g. combining gene expression scores)\n",
    "\n",
    "Good feature engineering can:\n",
    "\n",
    "-   Improve model accuracy\n",
    "-   Improve interpretability\n",
    "-   Reduce model complexity"
   ]
  },
  {
   "cell_type": "markdown",
   "id": "9f6b526e",
   "metadata": {},
   "source": [
    "## Practical Demonstration"
   ]
  },
  {
   "cell_type": "code",
   "execution_count": 1,
   "id": "60c508c8",
   "metadata": {},
   "outputs": [
    {
     "name": "stdout",
     "output_type": "stream",
     "text": [
      "   MedInc   MedInc^2  Rooms_per_person\n",
      "0  8.3252  69.308955          0.021623\n",
      "1  8.3014  68.913242          0.002597\n",
      "2  7.2574  52.669855          0.016676\n",
      "3  5.6431  31.844578          0.010407\n",
      "4  3.8462  14.793254          0.011099\n"
     ]
    }
   ],
   "source": [
    "import pandas as pd\n",
    "from sklearn.datasets import fetch_california_housing\n",
    "from sklearn.linear_model import LinearRegression\n",
    "from sklearn.model_selection import train_test_split\n",
    "from sklearn.preprocessing import PolynomialFeatures\n",
    "import numpy as np\n",
    "\n",
    "# Load dataset\n",
    "data = fetch_california_housing(as_frame=True)\n",
    "df = data.frame\n",
    "\n",
    "# Example: create new features\n",
    "df['Rooms_per_person'] = df['AveRooms'] / (df['Population'] + 1)  # avoid division by zero\n",
    "\n",
    "# Polynomial features for MedInc\n",
    "poly = PolynomialFeatures(degree=2, include_bias=False)\n",
    "poly_features = poly.fit_transform(df[['MedInc']])\n",
    "poly_feature_names = poly.get_feature_names_out(['MedInc'])\n",
    "poly_df = pd.DataFrame(poly_features, columns=poly_feature_names)\n",
    "poly_df = poly_df.drop(columns=['MedInc'])\n",
    "\n",
    "# Combine into single dataset\n",
    "df = pd.concat([df, poly_df], axis=1)\n",
    "print(df[['MedInc', 'MedInc^2', 'Rooms_per_person']].head())"
   ]
  },
  {
   "cell_type": "markdown",
   "id": "72bf9a20",
   "metadata": {},
   "source": [
    "-   Training a model with the new features"
   ]
  },
  {
   "cell_type": "code",
   "execution_count": 2,
   "id": "6f42143b",
   "metadata": {
    "lines_to_next_cell": 2
   },
   "outputs": [
    {
     "name": "stdout",
     "output_type": "stream",
     "text": [
      "Test R²: 0.5751137366759734\n"
     ]
    }
   ],
   "source": [
    "# Prepare data for training\n",
    "X = df.drop(columns=[data.target.name])\n",
    "y = df[data.target.name]\n",
    "\n",
    "# Split into train and test sets\n",
    "X_train, X_test, y_train, y_test = train_test_split(X, y, test_size=0.2, random_state=42)\n",
    "\n",
    "# Train a linear regression model\n",
    "model = LinearRegression()\n",
    "model.fit(X_train, y_train)\n",
    "\n",
    "# Evaluate the model\n",
    "print(\"Test R²:\", model.score(X_test, y_test))"
   ]
  },
  {
   "cell_type": "markdown",
   "id": "dd4b84b7",
   "metadata": {},
   "source": [
    "## Hands-on Exercises\n",
    "\n",
    "Add the following features to the California housing dataset:\n",
    "\n",
    "-   `Bedrooms_ratio = AveBedrms / AveRooms`\n",
    "-   `Log_income = log(MedInc + 1)`"
   ]
  },
  {
   "cell_type": "code",
   "execution_count": 3,
   "id": "f5c6b446",
   "metadata": {},
   "outputs": [
    {
     "name": "stdout",
     "output_type": "stream",
     "text": [
      "Test R²: 0.6338026669281586\n"
     ]
    }
   ],
   "source": [
    "# Starter code\n",
    "from sklearn.datasets import fetch_california_housing\n",
    "import numpy as np\n",
    "import pandas as pd\n",
    "from sklearn.linear_model import LinearRegression\n",
    "from sklearn.model_selection import train_test_split\n",
    "\n",
    "data = fetch_california_housing(as_frame=True)\n",
    "df = data.frame\n",
    "\n",
    "# New features\n",
    "df['Bedrooms_ratio'] = df['AveBedrms'] / df['AveRooms']\n",
    "df['Log_income'] = np.log(df['MedInc'] + 1)\n",
    "\n",
    "X = df.drop(columns=[data.target.name])\n",
    "y = df[data.target.name]\n",
    "\n",
    "X_train, X_test, y_train, y_test = train_test_split(X, y)\n",
    "model = LinearRegression()\n",
    "model.fit(X_train, y_train)\n",
    "print(\"Test R²:\", model.score(X_test, y_test))"
   ]
  }
 ],
 "metadata": {
  "jupytext": {
   "formats": "ipynb,md"
  },
  "kernelspec": {
   "display_name": "ML Workshop",
   "language": "python",
   "name": "ml_workshop"
  },
  "language_info": {
   "codemirror_mode": {
    "name": "ipython",
    "version": 3
   },
   "file_extension": ".py",
   "mimetype": "text/x-python",
   "name": "python",
   "nbconvert_exporter": "python",
   "pygments_lexer": "ipython3",
   "version": "3.13.3"
  }
 },
 "nbformat": 4,
 "nbformat_minor": 5
}
