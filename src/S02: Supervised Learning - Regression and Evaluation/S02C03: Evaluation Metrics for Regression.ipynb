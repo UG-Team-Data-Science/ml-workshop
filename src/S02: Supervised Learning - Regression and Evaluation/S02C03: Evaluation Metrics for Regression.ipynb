{
 "cells": [
  {
   "cell_type": "markdown",
   "id": "e0e7c898",
   "metadata": {},
   "source": [
    "\n",
    "# Evaluation Metrics for Regression\n",
    "\n",
    "We have, so far, used some common metrics to evaluate our regression models, but without a clear understanding of what they mean or how to interpret them. In this section, we will correct that omission and learn how to compute and interpret the most common evaluation metrics for regression models.\n",
    "\n",
    "****Evaluation Metrics**** are essential for understanding how well a regression model performs. They help us quantify the difference between predicted and actual values, guiding model selection and improvement."
   ]
  },
  {
   "cell_type": "markdown",
   "id": "1eee141c",
   "metadata": {},
   "source": [
    "## Common Regression Evaluation Metrics\n",
    "\n",
    "The most common regression evaluation metrics include:\n",
    "\n",
    "-   **Mean Absolute Error (MAE)**: Measures the average absolute difference between predicted and actual values.$$MAE = \\frac{1}{n} \\sum |y_i - \\hat{y}_i|$$\n",
    "    -   Easy to interpret (same units as target variable)\n",
    "    -   Robust to outliers\n",
    "\n",
    "-   **Mean Squared Error (MSE)**: Measures the average of the squares of the errors, penalizing larger errors more heavily.$$MSE = \\frac{1}{n} \\sum (y_i - \\hat{y}_i)^2$$\n",
    "    -   Penalizes large errors more heavily\n",
    "\n",
    "-   **Root Mean Squared Error (RMSE)**: The square root of MSE, providing an error metric in the same units as the target variable.$$RMSE = \\sqrt{MSE}$$\n",
    "    -   Same units as the target, easier to interpret than MSE\n",
    "\n",
    "-   **$R^2$ Score (Coefficient of Determination)**: Represents the proportion of variance explained by the model.$$R^2 = 1 - \\frac{SS_{res}}{SS_{tot}}$$\n",
    "    -   Proportion of variance explained by the model\n",
    "    -   Can be misleading if used alone\n",
    "\n",
    "-   **Metric choice depends on research goals**:\n",
    "    -   MAE: if every error counts equally\n",
    "    -   RMSE: if large errors are worse\n",
    "    -   $R^2$: for model comparison, not error interpretation"
   ]
  },
  {
   "cell_type": "markdown",
   "id": "423758f2",
   "metadata": {},
   "source": [
    "## Practical Demonstration\n",
    "\n",
    "For the practical demonstration, we will use the California Housing dataset, for which we want to predict the median house value based on various features. We will fit a linear regression model to this dataset and compute the evaluation metrics discussed above.\n",
    "\n",
    "-   Load the California Housing dataset"
   ]
  },
  {
   "cell_type": "code",
   "execution_count": null,
   "id": "dd8deb5a",
   "metadata": {},
   "outputs": [],
   "source": [
    "from sklearn.datasets import fetch_california_housing\n",
    "data = fetch_california_housing(as_frame=True)\n",
    "\n",
    "# Create a DataFrame\n",
    "df = data.frame\n",
    "df.info()"
   ]
  },
  {
   "cell_type": "markdown",
   "id": "e8b5aa4d",
   "metadata": {},
   "source": [
    "-   Exploratory Data Analysis (EDA)"
   ]
  },
  {
   "cell_type": "code",
   "execution_count": null,
   "id": "ed9ba3ed",
   "metadata": {},
   "outputs": [],
   "source": [
    "# Print some basic statistics of the dataset\n",
    "import pandas as pd\n",
    "df.describe()"
   ]
  },
  {
   "cell_type": "code",
   "execution_count": null,
   "id": "c205a9c3",
   "metadata": {},
   "outputs": [],
   "source": [
    "# Visualize the distribution of the target variable\n",
    "import matplotlib.pyplot as plt\n",
    "import seaborn as sns\n",
    "plt.figure(figsize=(10, 6))\n",
    "sns.histplot(df['MedHouseVal'], bins=30, kde=True)\n",
    "plt.title('Distribution of Median House Value')\n",
    "plt.xlabel('Median House Value')\n",
    "plt.ylabel('Frequency')\n",
    "plt.show()"
   ]
  },
  {
   "cell_type": "code",
   "execution_count": null,
   "id": "b5694b65",
   "metadata": {},
   "outputs": [],
   "source": [
    "# Visualize the relationship between features and target variable\n",
    "plt.figure(figsize=(12, 8))\n",
    "sns.heatmap(df.corr(), annot=True, fmt='.2f', cmap='coolwarm')\n",
    "plt.title('Correlation Heatmap of Features')\n",
    "plt.show()"
   ]
  },
  {
   "cell_type": "markdown",
   "id": "290c9da7",
   "metadata": {},
   "source": [
    "-   Split the dataset into features and target variable, retaining only the most informative feature."
   ]
  },
  {
   "cell_type": "code",
   "execution_count": null,
   "id": "ade152ef",
   "metadata": {},
   "outputs": [],
   "source": [
    "X = df[['MedInc']]\n",
    "y = df['MedHouseVal']"
   ]
  },
  {
   "cell_type": "markdown",
   "id": "aed551aa",
   "metadata": {},
   "source": [
    "-   Split the dataset into training and test sets"
   ]
  },
  {
   "cell_type": "code",
   "execution_count": null,
   "id": "60b535a4",
   "metadata": {},
   "outputs": [],
   "source": [
    "from sklearn.model_selection import train_test_split\n",
    "X_train, X_test, y_train, y_test = train_test_split(X, y, test_size=0.2, random_state=42)\n",
    "print(f\"Training set size: {X_train.shape[0]}, Test set size: {X_test.shape[0]}\")"
   ]
  },
  {
   "cell_type": "markdown",
   "id": "c2282213",
   "metadata": {},
   "source": [
    "-   Standardize the feature"
   ]
  },
  {
   "cell_type": "code",
   "execution_count": null,
   "id": "2d197855",
   "metadata": {},
   "outputs": [],
   "source": [
    "from sklearn.preprocessing import StandardScaler\n",
    "scaler = StandardScaler()\n",
    "X_train = scaler.fit_transform(X_train)\n",
    "X_test = scaler.transform(X_test)"
   ]
  },
  {
   "cell_type": "markdown",
   "id": "26216e97",
   "metadata": {},
   "source": [
    "-   Fit a linear regression model to the training data"
   ]
  },
  {
   "cell_type": "code",
   "execution_count": null,
   "id": "2478e9ce",
   "metadata": {},
   "outputs": [],
   "source": [
    "from sklearn.linear_model import LinearRegression\n",
    "model = LinearRegression()\n",
    "model.fit(X_train, y_train)"
   ]
  },
  {
   "cell_type": "markdown",
   "id": "31ad18ab",
   "metadata": {},
   "source": [
    "-   Run the model on the test set and compute the predictions"
   ]
  },
  {
   "cell_type": "code",
   "execution_count": null,
   "id": "c7dd8415",
   "metadata": {},
   "outputs": [],
   "source": [
    "y_pred = model.predict(X_test)\n",
    "print(\"Predictions:\", y_pred[:5])  # Display first 5 predictions\n",
    "print(\"Actual values:\", y_test.values[:5])  # Display first 5 actual values"
   ]
  },
  {
   "cell_type": "markdown",
   "id": "108c2992",
   "metadata": {},
   "source": [
    "-   Visualize the regression line"
   ]
  },
  {
   "cell_type": "code",
   "execution_count": null,
   "id": "5bf66a1a",
   "metadata": {},
   "outputs": [],
   "source": [
    "plt.figure(figsize=(10, 6))\n",
    "sns.scatterplot(x=X_test[:,0], y=y_test)\n",
    "sns.lineplot(x=X_test[:,0], y=y_pred, color='red', label='Regression Line')\n",
    "plt.title('Regression Line on Test Set')\n",
    "plt.xlabel('Median Income (Standardized)')\n",
    "plt.ylabel('Median House Value')\n",
    "plt.legend()\n",
    "plt.show()"
   ]
  },
  {
   "cell_type": "markdown",
   "id": "c7a524db",
   "metadata": {},
   "source": [
    "-   Compute the evaluation metrics"
   ]
  },
  {
   "cell_type": "code",
   "execution_count": null,
   "id": "34128ef6",
   "metadata": {},
   "outputs": [],
   "source": [
    "import numpy as np\n",
    "from sklearn.metrics import mean_absolute_error, mean_squared_error, r2_score\n",
    "mae = mean_absolute_error(y_test, y_pred)\n",
    "mse = mean_squared_error(y_test, y_pred)\n",
    "rmse = np.sqrt(mse)\n",
    "r2 = r2_score(y_test, y_pred)\n",
    "\n",
    "print(f\"MAE: {mae:.2f}\")\n",
    "print(f\"MSE: {mse:.2f}\")\n",
    "print(f\"RMSE: {rmse:.2f}\")\n",
    "print(f\"R²: {r2:.2f}\")"
   ]
  },
  {
   "cell_type": "markdown",
   "id": "713c637d",
   "metadata": {},
   "source": [
    "-   Let's add some outliers to the target variable to see how the metrics behave"
   ]
  },
  {
   "cell_type": "code",
   "execution_count": null,
   "id": "86fa91fe",
   "metadata": {
    "lines_to_next_cell": 2
   },
   "outputs": [],
   "source": [
    "import numpy as np\n",
    "\n",
    "# Introduce outliers in the test set\n",
    "y_test_with_outliers = y_test.copy()\n",
    "y_test_with_outliers.iloc[0] += 100  # Add an outlier to the first element\n",
    "y_test_with_outliers.iloc[-1] -= 100  # Add an outlier to the last element\n",
    "\n",
    "# Recompute predictions with outliers\n",
    "y_pred_with_outliers = model.predict(X_test)\n",
    "\n",
    "# Compute metrics with outliers\n",
    "mae_outliers = mean_absolute_error(y_test_with_outliers, y_pred_with_outliers)\n",
    "mse_outliers = mean_squared_error(y_test_with_outliers, y_pred_with_outliers)\n",
    "rmse_outliers = np.sqrt(mse_outliers)\n",
    "r2_outliers = r2_score(y_test_with_outliers, y_pred_with_outliers)\n",
    "\n",
    "print(f\"MAE with Outliers: {mae_outliers:.2f}\")\n",
    "print(f\"MSE with Outliers: {mse_outliers:.2f}\")\n",
    "print(f\"RMSE with Outliers: {rmse_outliers:.2f}\")\n",
    "print(f\"R² with Outliers: {r2_outliers:.2f}\")"
   ]
  },
  {
   "cell_type": "markdown",
   "id": "ea92928a",
   "metadata": {},
   "source": [
    "## Hands-on Exercises\n",
    "\n",
    "-   Fit a linear regression model to the Ames dataset (feature = `GrLivArea`, target = `SalePrice`).\n",
    "-   Compute and report the evaluation metrics for the model.\n",
    "-   Change the target variable by multiplying it by 1000. Recompute the metrics."
   ]
  }
 ],
 "metadata": {
  "jupytext": {
   "formats": "ipynb,md"
  },
  "kernelspec": {
   "display_name": "ML Workshop",
   "language": "python",
   "name": "ml_workshop"
  },
  "language_info": {
   "codemirror_mode": {
    "name": "ipython",
    "version": 3
   },
   "file_extension": ".py",
   "mimetype": "text/x-python",
   "name": "python",
   "nbconvert_exporter": "python",
   "pygments_lexer": "ipython3",
   "version": "3.13.3"
  }
 },
 "nbformat": 4,
 "nbformat_minor": 5
}
