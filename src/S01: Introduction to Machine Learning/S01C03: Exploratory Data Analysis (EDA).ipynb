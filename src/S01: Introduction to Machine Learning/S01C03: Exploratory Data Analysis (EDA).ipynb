{
 "cells": [
  {
   "cell_type": "markdown",
   "id": "04a5d3b0",
   "metadata": {},
   "source": [
    "\n",
    "# Exploratory Data Analysis (EDA)\n",
    "\n",
    "****Exploratory Data Analysis**** (EDA) is a crucial step in the data science process, allowing us to understand our data before diving into modeling. It involves summarizing the main characteristics of a dataset, often using visual and statistical methods. The goal is to gain insights into the data's structure, detect anomalies, and identify relationships between variables."
   ]
  },
  {
   "cell_type": "markdown",
   "id": "8aa69739",
   "metadata": {},
   "source": [
    "## Goals of EDA\n",
    "\n",
    "-   Understanding the structure and shape of the data\n",
    "-   Detecting outliers, missing values, and noise\n",
    "-   Identifying relationships between variables\n",
    "-   Generating hypotheses or informing modeling decisions"
   ]
  },
  {
   "cell_type": "markdown",
   "id": "f9199361",
   "metadata": {},
   "source": [
    "## Typical Techniques\n",
    "\n",
    "-   Summary statistics: mean, std, min, max, missing values\n",
    "-   Visualizations:\n",
    "    -   Histograms, boxplots → distribution of features\n",
    "    -   Scatter plots → relationships between variables\n",
    "    -   Correlation heatmaps\n",
    "\n",
    "It is important to perform Exploratory Data Analysis (EDA) before building machine learning models, since it helps to avoid common pitfalls such as garbage in, garbage out."
   ]
  },
  {
   "cell_type": "markdown",
   "id": "b734c0fb",
   "metadata": {},
   "source": [
    "## Practical Demonstration\n",
    "\n",
    "In this section, we will perform EDA on the California Housing dataset using Python libraries such as Pandas, Matplotlib, and Seaborn. We will cover the following steps:\n",
    "\n",
    "-   Load the dataset using Scikit-learn's `fetch_california_housing`."
   ]
  },
  {
   "cell_type": "code",
   "execution_count": null,
   "id": "a80f895a",
   "metadata": {},
   "outputs": [],
   "source": [
    "from sklearn.datasets import fetch_california_housing\n",
    "\n",
    "# Load the California Housing dataset\n",
    "data = fetch_california_housing(as_frame=True)\n",
    "\n",
    "# Convert to DataFrame\n",
    "df = data.frame\n",
    "df.info()"
   ]
  },
  {
   "cell_type": "markdown",
   "id": "2252c896",
   "metadata": {},
   "source": [
    "-   Show descriptive statistics (mean, std, min, max) with Pandas."
   ]
  },
  {
   "cell_type": "code",
   "execution_count": null,
   "id": "e4fc59df",
   "metadata": {},
   "outputs": [],
   "source": [
    "print(\"Descriptive Statistics:\")\n",
    "print(df.describe())"
   ]
  },
  {
   "cell_type": "markdown",
   "id": "44b603ca",
   "metadata": {},
   "source": [
    "-   Count missing values (if any)."
   ]
  },
  {
   "cell_type": "code",
   "execution_count": null,
   "id": "1e20d98a",
   "metadata": {},
   "outputs": [],
   "source": [
    "print(\"Missing Values:\")\n",
    "print(df.isnull().sum())"
   ]
  },
  {
   "cell_type": "markdown",
   "id": "cfe6ca10",
   "metadata": {},
   "source": [
    "-   Explore pairwise relationships with `pairplot()`."
   ]
  },
  {
   "cell_type": "code",
   "execution_count": null,
   "id": "c648a50b",
   "metadata": {},
   "outputs": [],
   "source": [
    "import matplotlib.pyplot as plt\n",
    "import seaborn as sns\n",
    "\n",
    "sns.pairplot(df, diag_kind='kde', markers='o', corner=True)\n",
    "plt.suptitle('Pairwise Relationships in California Housing Dataset', y=1.02)\n",
    "plt.show()"
   ]
  },
  {
   "cell_type": "markdown",
   "id": "2b06faf9",
   "metadata": {},
   "source": [
    "-   Plot histogram of `MedHouseVal` (median house value) and `MedInc` (median income)."
   ]
  },
  {
   "cell_type": "code",
   "execution_count": null,
   "id": "da19e945",
   "metadata": {},
   "outputs": [],
   "source": [
    "plt.figure(figsize=(12, 5))\n",
    "plt.subplot(1, 2, 1)\n",
    "sns.histplot(df['MedHouseVal'], bins=30, kde=True)\n",
    "plt.title('Distribution of Median House Value (MedHouseVal)')\n",
    "plt.subplot(1, 2, 2)\n",
    "sns.histplot(df['MedInc'], bins=30, kde=True)\n",
    "plt.title('Distribution of Median Income (MedInc)')\n",
    "plt.tight_layout()\n",
    "plt.show()"
   ]
  },
  {
   "cell_type": "markdown",
   "id": "b3e219bf",
   "metadata": {},
   "source": [
    "-   Plot correlation matrix of all numerical features"
   ]
  },
  {
   "cell_type": "code",
   "execution_count": null,
   "id": "aa50ffe3",
   "metadata": {
    "lines_to_next_cell": 2
   },
   "outputs": [],
   "source": [
    "plt.figure(figsize=(10, 8))\n",
    "sns.heatmap(df.corr(), annot=True, fmt=\".2f\", cmap='coolwarm', square=True)\n",
    "plt.title('Correlation Matrix of California Housing Features')\n",
    "plt.show()"
   ]
  },
  {
   "cell_type": "markdown",
   "id": "d28f2df0",
   "metadata": {},
   "source": [
    "## Hands-on Exercises\n",
    "\n",
    "In this exercise, you will apply the concepts learned in the theoretical introduction and practical demonstration to perform EDA on the Ames Housing dataset. Follow the steps below:\n",
    "\n",
    "-   Load the dataset using `scikit-learn` (`fetch_openml`).\n",
    "-   Show descriptive statistics (mean, std, min, max) with Pandas.\n",
    "-   Check for missing values.\n",
    "-   Create a correlation matrix heatmap for all numerical features.\n",
    "-   Plot a histogram of the `SalePrice` target variable and a boxplot of `OverallQual`."
   ]
  },
  {
   "cell_type": "markdown",
   "id": "774a765b",
   "metadata": {},
   "source": [
    "## Summary\n",
    "\n",
    "In this section, we covered the importance of Exploratory Data Analysis (EDA) in the machine learning workflow. We demonstrated how to perform EDA using Python libraries such as Pandas, Matplotlib, and Seaborn on the California housing dataset. We also provided hands-on exercises to practice EDA on the Ames Housing dataset. EDA is a crucial step in understanding the data, detecting anomalies, and informing modeling decisions. By performing EDA, we can gain valuable insights into the data and ensure that we are building models on a solid foundation."
   ]
  }
 ],
 "metadata": {
  "jupytext": {
   "formats": "ipynb,md"
  },
  "kernelspec": {
   "display_name": "ML Workshop",
   "language": "python",
   "name": "ml_workshop"
  },
  "language_info": {
   "codemirror_mode": {
    "name": "ipython",
    "version": 3
   },
   "file_extension": ".py",
   "mimetype": "text/x-python",
   "name": "python",
   "nbconvert_exporter": "python",
   "pygments_lexer": "ipython3",
   "version": "3.13.3"
  }
 },
 "nbformat": 4,
 "nbformat_minor": 5
}
